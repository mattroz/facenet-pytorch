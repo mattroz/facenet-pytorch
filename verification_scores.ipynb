{
 "cells": [
  {
   "cell_type": "code",
   "execution_count": 1,
   "metadata": {},
   "outputs": [],
   "source": [
    "import cv2\n",
    "import itertools\n",
    "import torch\n",
    "import json\n",
    "\n",
    "import numpy as np\n",
    "import matplotlib.pyplot as plt\n",
    "\n",
    "from pathlib import Path\n",
    "from PIL import Image\n",
    "from torchvision.transforms import ToTensor\n",
    "from sklearn.metrics.pairwise import cosine_similarity\n",
    "\n",
    "from models.mtcnn import MTCNN\n",
    "from models.inception_resnet_v1 import InceptionResnetV1\n",
    "from tqdm.notebook import tqdm"
   ]
  },
  {
   "cell_type": "code",
   "execution_count": 2,
   "metadata": {},
   "outputs": [
    {
     "data": {
      "text/plain": [
       "InceptionResnetV1(\n",
       "  (conv2d_1a): BasicConv2d(\n",
       "    (conv): Conv2d(3, 32, kernel_size=(3, 3), stride=(2, 2), bias=False)\n",
       "    (bn): BatchNorm2d(32, eps=0.001, momentum=0.1, affine=True, track_running_stats=True)\n",
       "    (relu): ReLU()\n",
       "  )\n",
       "  (conv2d_2a): BasicConv2d(\n",
       "    (conv): Conv2d(32, 32, kernel_size=(3, 3), stride=(1, 1), bias=False)\n",
       "    (bn): BatchNorm2d(32, eps=0.001, momentum=0.1, affine=True, track_running_stats=True)\n",
       "    (relu): ReLU()\n",
       "  )\n",
       "  (conv2d_2b): BasicConv2d(\n",
       "    (conv): Conv2d(32, 64, kernel_size=(3, 3), stride=(1, 1), padding=(1, 1), bias=False)\n",
       "    (bn): BatchNorm2d(64, eps=0.001, momentum=0.1, affine=True, track_running_stats=True)\n",
       "    (relu): ReLU()\n",
       "  )\n",
       "  (maxpool_3a): MaxPool2d(kernel_size=3, stride=2, padding=0, dilation=1, ceil_mode=False)\n",
       "  (conv2d_3b): BasicConv2d(\n",
       "    (conv): Conv2d(64, 80, kernel_size=(1, 1), stride=(1, 1), bias=False)\n",
       "    (bn): BatchNorm2d(80, eps=0.001, momentum=0.1, affine=True, track_running_stats=True)\n",
       "    (relu): ReLU()\n",
       "  )\n",
       "  (conv2d_4a): BasicConv2d(\n",
       "    (conv): Conv2d(80, 192, kernel_size=(3, 3), stride=(1, 1), bias=False)\n",
       "    (bn): BatchNorm2d(192, eps=0.001, momentum=0.1, affine=True, track_running_stats=True)\n",
       "    (relu): ReLU()\n",
       "  )\n",
       "  (conv2d_4b): BasicConv2d(\n",
       "    (conv): Conv2d(192, 256, kernel_size=(3, 3), stride=(2, 2), bias=False)\n",
       "    (bn): BatchNorm2d(256, eps=0.001, momentum=0.1, affine=True, track_running_stats=True)\n",
       "    (relu): ReLU()\n",
       "  )\n",
       "  (repeat_1): Sequential(\n",
       "    (0): Block35(\n",
       "      (branch0): BasicConv2d(\n",
       "        (conv): Conv2d(256, 32, kernel_size=(1, 1), stride=(1, 1), bias=False)\n",
       "        (bn): BatchNorm2d(32, eps=0.001, momentum=0.1, affine=True, track_running_stats=True)\n",
       "        (relu): ReLU()\n",
       "      )\n",
       "      (branch1): Sequential(\n",
       "        (0): BasicConv2d(\n",
       "          (conv): Conv2d(256, 32, kernel_size=(1, 1), stride=(1, 1), bias=False)\n",
       "          (bn): BatchNorm2d(32, eps=0.001, momentum=0.1, affine=True, track_running_stats=True)\n",
       "          (relu): ReLU()\n",
       "        )\n",
       "        (1): BasicConv2d(\n",
       "          (conv): Conv2d(32, 32, kernel_size=(3, 3), stride=(1, 1), padding=(1, 1), bias=False)\n",
       "          (bn): BatchNorm2d(32, eps=0.001, momentum=0.1, affine=True, track_running_stats=True)\n",
       "          (relu): ReLU()\n",
       "        )\n",
       "      )\n",
       "      (branch2): Sequential(\n",
       "        (0): BasicConv2d(\n",
       "          (conv): Conv2d(256, 32, kernel_size=(1, 1), stride=(1, 1), bias=False)\n",
       "          (bn): BatchNorm2d(32, eps=0.001, momentum=0.1, affine=True, track_running_stats=True)\n",
       "          (relu): ReLU()\n",
       "        )\n",
       "        (1): BasicConv2d(\n",
       "          (conv): Conv2d(32, 32, kernel_size=(3, 3), stride=(1, 1), padding=(1, 1), bias=False)\n",
       "          (bn): BatchNorm2d(32, eps=0.001, momentum=0.1, affine=True, track_running_stats=True)\n",
       "          (relu): ReLU()\n",
       "        )\n",
       "        (2): BasicConv2d(\n",
       "          (conv): Conv2d(32, 32, kernel_size=(3, 3), stride=(1, 1), padding=(1, 1), bias=False)\n",
       "          (bn): BatchNorm2d(32, eps=0.001, momentum=0.1, affine=True, track_running_stats=True)\n",
       "          (relu): ReLU()\n",
       "        )\n",
       "      )\n",
       "      (conv2d): Conv2d(96, 256, kernel_size=(1, 1), stride=(1, 1))\n",
       "      (relu): ReLU()\n",
       "    )\n",
       "    (1): Block35(\n",
       "      (branch0): BasicConv2d(\n",
       "        (conv): Conv2d(256, 32, kernel_size=(1, 1), stride=(1, 1), bias=False)\n",
       "        (bn): BatchNorm2d(32, eps=0.001, momentum=0.1, affine=True, track_running_stats=True)\n",
       "        (relu): ReLU()\n",
       "      )\n",
       "      (branch1): Sequential(\n",
       "        (0): BasicConv2d(\n",
       "          (conv): Conv2d(256, 32, kernel_size=(1, 1), stride=(1, 1), bias=False)\n",
       "          (bn): BatchNorm2d(32, eps=0.001, momentum=0.1, affine=True, track_running_stats=True)\n",
       "          (relu): ReLU()\n",
       "        )\n",
       "        (1): BasicConv2d(\n",
       "          (conv): Conv2d(32, 32, kernel_size=(3, 3), stride=(1, 1), padding=(1, 1), bias=False)\n",
       "          (bn): BatchNorm2d(32, eps=0.001, momentum=0.1, affine=True, track_running_stats=True)\n",
       "          (relu): ReLU()\n",
       "        )\n",
       "      )\n",
       "      (branch2): Sequential(\n",
       "        (0): BasicConv2d(\n",
       "          (conv): Conv2d(256, 32, kernel_size=(1, 1), stride=(1, 1), bias=False)\n",
       "          (bn): BatchNorm2d(32, eps=0.001, momentum=0.1, affine=True, track_running_stats=True)\n",
       "          (relu): ReLU()\n",
       "        )\n",
       "        (1): BasicConv2d(\n",
       "          (conv): Conv2d(32, 32, kernel_size=(3, 3), stride=(1, 1), padding=(1, 1), bias=False)\n",
       "          (bn): BatchNorm2d(32, eps=0.001, momentum=0.1, affine=True, track_running_stats=True)\n",
       "          (relu): ReLU()\n",
       "        )\n",
       "        (2): BasicConv2d(\n",
       "          (conv): Conv2d(32, 32, kernel_size=(3, 3), stride=(1, 1), padding=(1, 1), bias=False)\n",
       "          (bn): BatchNorm2d(32, eps=0.001, momentum=0.1, affine=True, track_running_stats=True)\n",
       "          (relu): ReLU()\n",
       "        )\n",
       "      )\n",
       "      (conv2d): Conv2d(96, 256, kernel_size=(1, 1), stride=(1, 1))\n",
       "      (relu): ReLU()\n",
       "    )\n",
       "    (2): Block35(\n",
       "      (branch0): BasicConv2d(\n",
       "        (conv): Conv2d(256, 32, kernel_size=(1, 1), stride=(1, 1), bias=False)\n",
       "        (bn): BatchNorm2d(32, eps=0.001, momentum=0.1, affine=True, track_running_stats=True)\n",
       "        (relu): ReLU()\n",
       "      )\n",
       "      (branch1): Sequential(\n",
       "        (0): BasicConv2d(\n",
       "          (conv): Conv2d(256, 32, kernel_size=(1, 1), stride=(1, 1), bias=False)\n",
       "          (bn): BatchNorm2d(32, eps=0.001, momentum=0.1, affine=True, track_running_stats=True)\n",
       "          (relu): ReLU()\n",
       "        )\n",
       "        (1): BasicConv2d(\n",
       "          (conv): Conv2d(32, 32, kernel_size=(3, 3), stride=(1, 1), padding=(1, 1), bias=False)\n",
       "          (bn): BatchNorm2d(32, eps=0.001, momentum=0.1, affine=True, track_running_stats=True)\n",
       "          (relu): ReLU()\n",
       "        )\n",
       "      )\n",
       "      (branch2): Sequential(\n",
       "        (0): BasicConv2d(\n",
       "          (conv): Conv2d(256, 32, kernel_size=(1, 1), stride=(1, 1), bias=False)\n",
       "          (bn): BatchNorm2d(32, eps=0.001, momentum=0.1, affine=True, track_running_stats=True)\n",
       "          (relu): ReLU()\n",
       "        )\n",
       "        (1): BasicConv2d(\n",
       "          (conv): Conv2d(32, 32, kernel_size=(3, 3), stride=(1, 1), padding=(1, 1), bias=False)\n",
       "          (bn): BatchNorm2d(32, eps=0.001, momentum=0.1, affine=True, track_running_stats=True)\n",
       "          (relu): ReLU()\n",
       "        )\n",
       "        (2): BasicConv2d(\n",
       "          (conv): Conv2d(32, 32, kernel_size=(3, 3), stride=(1, 1), padding=(1, 1), bias=False)\n",
       "          (bn): BatchNorm2d(32, eps=0.001, momentum=0.1, affine=True, track_running_stats=True)\n",
       "          (relu): ReLU()\n",
       "        )\n",
       "      )\n",
       "      (conv2d): Conv2d(96, 256, kernel_size=(1, 1), stride=(1, 1))\n",
       "      (relu): ReLU()\n",
       "    )\n",
       "    (3): Block35(\n",
       "      (branch0): BasicConv2d(\n",
       "        (conv): Conv2d(256, 32, kernel_size=(1, 1), stride=(1, 1), bias=False)\n",
       "        (bn): BatchNorm2d(32, eps=0.001, momentum=0.1, affine=True, track_running_stats=True)\n",
       "        (relu): ReLU()\n",
       "      )\n",
       "      (branch1): Sequential(\n",
       "        (0): BasicConv2d(\n",
       "          (conv): Conv2d(256, 32, kernel_size=(1, 1), stride=(1, 1), bias=False)\n",
       "          (bn): BatchNorm2d(32, eps=0.001, momentum=0.1, affine=True, track_running_stats=True)\n",
       "          (relu): ReLU()\n",
       "        )\n",
       "        (1): BasicConv2d(\n",
       "          (conv): Conv2d(32, 32, kernel_size=(3, 3), stride=(1, 1), padding=(1, 1), bias=False)\n",
       "          (bn): BatchNorm2d(32, eps=0.001, momentum=0.1, affine=True, track_running_stats=True)\n",
       "          (relu): ReLU()\n",
       "        )\n",
       "      )\n",
       "      (branch2): Sequential(\n",
       "        (0): BasicConv2d(\n",
       "          (conv): Conv2d(256, 32, kernel_size=(1, 1), stride=(1, 1), bias=False)\n",
       "          (bn): BatchNorm2d(32, eps=0.001, momentum=0.1, affine=True, track_running_stats=True)\n",
       "          (relu): ReLU()\n",
       "        )\n",
       "        (1): BasicConv2d(\n",
       "          (conv): Conv2d(32, 32, kernel_size=(3, 3), stride=(1, 1), padding=(1, 1), bias=False)\n",
       "          (bn): BatchNorm2d(32, eps=0.001, momentum=0.1, affine=True, track_running_stats=True)\n",
       "          (relu): ReLU()\n",
       "        )\n",
       "        (2): BasicConv2d(\n",
       "          (conv): Conv2d(32, 32, kernel_size=(3, 3), stride=(1, 1), padding=(1, 1), bias=False)\n",
       "          (bn): BatchNorm2d(32, eps=0.001, momentum=0.1, affine=True, track_running_stats=True)\n",
       "          (relu): ReLU()\n",
       "        )\n",
       "      )\n",
       "      (conv2d): Conv2d(96, 256, kernel_size=(1, 1), stride=(1, 1))\n",
       "      (relu): ReLU()\n",
       "    )\n",
       "    (4): Block35(\n",
       "      (branch0): BasicConv2d(\n",
       "        (conv): Conv2d(256, 32, kernel_size=(1, 1), stride=(1, 1), bias=False)\n",
       "        (bn): BatchNorm2d(32, eps=0.001, momentum=0.1, affine=True, track_running_stats=True)\n",
       "        (relu): ReLU()\n",
       "      )\n",
       "      (branch1): Sequential(\n",
       "        (0): BasicConv2d(\n",
       "          (conv): Conv2d(256, 32, kernel_size=(1, 1), stride=(1, 1), bias=False)\n",
       "          (bn): BatchNorm2d(32, eps=0.001, momentum=0.1, affine=True, track_running_stats=True)\n",
       "          (relu): ReLU()\n",
       "        )\n",
       "        (1): BasicConv2d(\n",
       "          (conv): Conv2d(32, 32, kernel_size=(3, 3), stride=(1, 1), padding=(1, 1), bias=False)\n",
       "          (bn): BatchNorm2d(32, eps=0.001, momentum=0.1, affine=True, track_running_stats=True)\n",
       "          (relu): ReLU()\n",
       "        )\n",
       "      )\n",
       "      (branch2): Sequential(\n",
       "        (0): BasicConv2d(\n",
       "          (conv): Conv2d(256, 32, kernel_size=(1, 1), stride=(1, 1), bias=False)\n",
       "          (bn): BatchNorm2d(32, eps=0.001, momentum=0.1, affine=True, track_running_stats=True)\n",
       "          (relu): ReLU()\n",
       "        )\n",
       "        (1): BasicConv2d(\n",
       "          (conv): Conv2d(32, 32, kernel_size=(3, 3), stride=(1, 1), padding=(1, 1), bias=False)\n",
       "          (bn): BatchNorm2d(32, eps=0.001, momentum=0.1, affine=True, track_running_stats=True)\n",
       "          (relu): ReLU()\n",
       "        )\n",
       "        (2): BasicConv2d(\n",
       "          (conv): Conv2d(32, 32, kernel_size=(3, 3), stride=(1, 1), padding=(1, 1), bias=False)\n",
       "          (bn): BatchNorm2d(32, eps=0.001, momentum=0.1, affine=True, track_running_stats=True)\n",
       "          (relu): ReLU()\n",
       "        )\n",
       "      )\n",
       "      (conv2d): Conv2d(96, 256, kernel_size=(1, 1), stride=(1, 1))\n",
       "      (relu): ReLU()\n",
       "    )\n",
       "  )\n",
       "  (mixed_6a): Mixed_6a(\n",
       "    (branch0): BasicConv2d(\n",
       "      (conv): Conv2d(256, 384, kernel_size=(3, 3), stride=(2, 2), bias=False)\n",
       "      (bn): BatchNorm2d(384, eps=0.001, momentum=0.1, affine=True, track_running_stats=True)\n",
       "      (relu): ReLU()\n",
       "    )\n",
       "    (branch1): Sequential(\n",
       "      (0): BasicConv2d(\n",
       "        (conv): Conv2d(256, 192, kernel_size=(1, 1), stride=(1, 1), bias=False)\n",
       "        (bn): BatchNorm2d(192, eps=0.001, momentum=0.1, affine=True, track_running_stats=True)\n",
       "        (relu): ReLU()\n",
       "      )\n",
       "      (1): BasicConv2d(\n",
       "        (conv): Conv2d(192, 192, kernel_size=(3, 3), stride=(1, 1), padding=(1, 1), bias=False)\n",
       "        (bn): BatchNorm2d(192, eps=0.001, momentum=0.1, affine=True, track_running_stats=True)\n",
       "        (relu): ReLU()\n",
       "      )\n",
       "      (2): BasicConv2d(\n",
       "        (conv): Conv2d(192, 256, kernel_size=(3, 3), stride=(2, 2), bias=False)\n",
       "        (bn): BatchNorm2d(256, eps=0.001, momentum=0.1, affine=True, track_running_stats=True)\n",
       "        (relu): ReLU()\n",
       "      )\n",
       "    )\n",
       "    (branch2): MaxPool2d(kernel_size=3, stride=2, padding=0, dilation=1, ceil_mode=False)\n",
       "  )\n",
       "  (repeat_2): Sequential(\n",
       "    (0): Block17(\n",
       "      (branch0): BasicConv2d(\n",
       "        (conv): Conv2d(896, 128, kernel_size=(1, 1), stride=(1, 1), bias=False)\n",
       "        (bn): BatchNorm2d(128, eps=0.001, momentum=0.1, affine=True, track_running_stats=True)\n",
       "        (relu): ReLU()\n",
       "      )\n",
       "      (branch1): Sequential(\n",
       "        (0): BasicConv2d(\n",
       "          (conv): Conv2d(896, 128, kernel_size=(1, 1), stride=(1, 1), bias=False)\n",
       "          (bn): BatchNorm2d(128, eps=0.001, momentum=0.1, affine=True, track_running_stats=True)\n",
       "          (relu): ReLU()\n",
       "        )\n",
       "        (1): BasicConv2d(\n",
       "          (conv): Conv2d(128, 128, kernel_size=(1, 7), stride=(1, 1), padding=(0, 3), bias=False)\n",
       "          (bn): BatchNorm2d(128, eps=0.001, momentum=0.1, affine=True, track_running_stats=True)\n",
       "          (relu): ReLU()\n",
       "        )\n",
       "        (2): BasicConv2d(\n",
       "          (conv): Conv2d(128, 128, kernel_size=(7, 1), stride=(1, 1), padding=(3, 0), bias=False)\n",
       "          (bn): BatchNorm2d(128, eps=0.001, momentum=0.1, affine=True, track_running_stats=True)\n",
       "          (relu): ReLU()\n",
       "        )\n",
       "      )\n",
       "      (conv2d): Conv2d(256, 896, kernel_size=(1, 1), stride=(1, 1))\n",
       "      (relu): ReLU()\n",
       "    )\n",
       "    (1): Block17(\n",
       "      (branch0): BasicConv2d(\n",
       "        (conv): Conv2d(896, 128, kernel_size=(1, 1), stride=(1, 1), bias=False)\n",
       "        (bn): BatchNorm2d(128, eps=0.001, momentum=0.1, affine=True, track_running_stats=True)\n",
       "        (relu): ReLU()\n",
       "      )\n",
       "      (branch1): Sequential(\n",
       "        (0): BasicConv2d(\n",
       "          (conv): Conv2d(896, 128, kernel_size=(1, 1), stride=(1, 1), bias=False)\n",
       "          (bn): BatchNorm2d(128, eps=0.001, momentum=0.1, affine=True, track_running_stats=True)\n",
       "          (relu): ReLU()\n",
       "        )\n",
       "        (1): BasicConv2d(\n",
       "          (conv): Conv2d(128, 128, kernel_size=(1, 7), stride=(1, 1), padding=(0, 3), bias=False)\n",
       "          (bn): BatchNorm2d(128, eps=0.001, momentum=0.1, affine=True, track_running_stats=True)\n",
       "          (relu): ReLU()\n",
       "        )\n",
       "        (2): BasicConv2d(\n",
       "          (conv): Conv2d(128, 128, kernel_size=(7, 1), stride=(1, 1), padding=(3, 0), bias=False)\n",
       "          (bn): BatchNorm2d(128, eps=0.001, momentum=0.1, affine=True, track_running_stats=True)\n",
       "          (relu): ReLU()\n",
       "        )\n",
       "      )\n",
       "      (conv2d): Conv2d(256, 896, kernel_size=(1, 1), stride=(1, 1))\n",
       "      (relu): ReLU()\n",
       "    )\n",
       "    (2): Block17(\n",
       "      (branch0): BasicConv2d(\n",
       "        (conv): Conv2d(896, 128, kernel_size=(1, 1), stride=(1, 1), bias=False)\n",
       "        (bn): BatchNorm2d(128, eps=0.001, momentum=0.1, affine=True, track_running_stats=True)\n",
       "        (relu): ReLU()\n",
       "      )\n",
       "      (branch1): Sequential(\n",
       "        (0): BasicConv2d(\n",
       "          (conv): Conv2d(896, 128, kernel_size=(1, 1), stride=(1, 1), bias=False)\n",
       "          (bn): BatchNorm2d(128, eps=0.001, momentum=0.1, affine=True, track_running_stats=True)\n",
       "          (relu): ReLU()\n",
       "        )\n",
       "        (1): BasicConv2d(\n",
       "          (conv): Conv2d(128, 128, kernel_size=(1, 7), stride=(1, 1), padding=(0, 3), bias=False)\n",
       "          (bn): BatchNorm2d(128, eps=0.001, momentum=0.1, affine=True, track_running_stats=True)\n",
       "          (relu): ReLU()\n",
       "        )\n",
       "        (2): BasicConv2d(\n",
       "          (conv): Conv2d(128, 128, kernel_size=(7, 1), stride=(1, 1), padding=(3, 0), bias=False)\n",
       "          (bn): BatchNorm2d(128, eps=0.001, momentum=0.1, affine=True, track_running_stats=True)\n",
       "          (relu): ReLU()\n",
       "        )\n",
       "      )\n",
       "      (conv2d): Conv2d(256, 896, kernel_size=(1, 1), stride=(1, 1))\n",
       "      (relu): ReLU()\n",
       "    )\n",
       "    (3): Block17(\n",
       "      (branch0): BasicConv2d(\n",
       "        (conv): Conv2d(896, 128, kernel_size=(1, 1), stride=(1, 1), bias=False)\n",
       "        (bn): BatchNorm2d(128, eps=0.001, momentum=0.1, affine=True, track_running_stats=True)\n",
       "        (relu): ReLU()\n",
       "      )\n",
       "      (branch1): Sequential(\n",
       "        (0): BasicConv2d(\n",
       "          (conv): Conv2d(896, 128, kernel_size=(1, 1), stride=(1, 1), bias=False)\n",
       "          (bn): BatchNorm2d(128, eps=0.001, momentum=0.1, affine=True, track_running_stats=True)\n",
       "          (relu): ReLU()\n",
       "        )\n",
       "        (1): BasicConv2d(\n",
       "          (conv): Conv2d(128, 128, kernel_size=(1, 7), stride=(1, 1), padding=(0, 3), bias=False)\n",
       "          (bn): BatchNorm2d(128, eps=0.001, momentum=0.1, affine=True, track_running_stats=True)\n",
       "          (relu): ReLU()\n",
       "        )\n",
       "        (2): BasicConv2d(\n",
       "          (conv): Conv2d(128, 128, kernel_size=(7, 1), stride=(1, 1), padding=(3, 0), bias=False)\n",
       "          (bn): BatchNorm2d(128, eps=0.001, momentum=0.1, affine=True, track_running_stats=True)\n",
       "          (relu): ReLU()\n",
       "        )\n",
       "      )\n",
       "      (conv2d): Conv2d(256, 896, kernel_size=(1, 1), stride=(1, 1))\n",
       "      (relu): ReLU()\n",
       "    )\n",
       "    (4): Block17(\n",
       "      (branch0): BasicConv2d(\n",
       "        (conv): Conv2d(896, 128, kernel_size=(1, 1), stride=(1, 1), bias=False)\n",
       "        (bn): BatchNorm2d(128, eps=0.001, momentum=0.1, affine=True, track_running_stats=True)\n",
       "        (relu): ReLU()\n",
       "      )\n",
       "      (branch1): Sequential(\n",
       "        (0): BasicConv2d(\n",
       "          (conv): Conv2d(896, 128, kernel_size=(1, 1), stride=(1, 1), bias=False)\n",
       "          (bn): BatchNorm2d(128, eps=0.001, momentum=0.1, affine=True, track_running_stats=True)\n",
       "          (relu): ReLU()\n",
       "        )\n",
       "        (1): BasicConv2d(\n",
       "          (conv): Conv2d(128, 128, kernel_size=(1, 7), stride=(1, 1), padding=(0, 3), bias=False)\n",
       "          (bn): BatchNorm2d(128, eps=0.001, momentum=0.1, affine=True, track_running_stats=True)\n",
       "          (relu): ReLU()\n",
       "        )\n",
       "        (2): BasicConv2d(\n",
       "          (conv): Conv2d(128, 128, kernel_size=(7, 1), stride=(1, 1), padding=(3, 0), bias=False)\n",
       "          (bn): BatchNorm2d(128, eps=0.001, momentum=0.1, affine=True, track_running_stats=True)\n",
       "          (relu): ReLU()\n",
       "        )\n",
       "      )\n",
       "      (conv2d): Conv2d(256, 896, kernel_size=(1, 1), stride=(1, 1))\n",
       "      (relu): ReLU()\n",
       "    )\n",
       "    (5): Block17(\n",
       "      (branch0): BasicConv2d(\n",
       "        (conv): Conv2d(896, 128, kernel_size=(1, 1), stride=(1, 1), bias=False)\n",
       "        (bn): BatchNorm2d(128, eps=0.001, momentum=0.1, affine=True, track_running_stats=True)\n",
       "        (relu): ReLU()\n",
       "      )\n",
       "      (branch1): Sequential(\n",
       "        (0): BasicConv2d(\n",
       "          (conv): Conv2d(896, 128, kernel_size=(1, 1), stride=(1, 1), bias=False)\n",
       "          (bn): BatchNorm2d(128, eps=0.001, momentum=0.1, affine=True, track_running_stats=True)\n",
       "          (relu): ReLU()\n",
       "        )\n",
       "        (1): BasicConv2d(\n",
       "          (conv): Conv2d(128, 128, kernel_size=(1, 7), stride=(1, 1), padding=(0, 3), bias=False)\n",
       "          (bn): BatchNorm2d(128, eps=0.001, momentum=0.1, affine=True, track_running_stats=True)\n",
       "          (relu): ReLU()\n",
       "        )\n",
       "        (2): BasicConv2d(\n",
       "          (conv): Conv2d(128, 128, kernel_size=(7, 1), stride=(1, 1), padding=(3, 0), bias=False)\n",
       "          (bn): BatchNorm2d(128, eps=0.001, momentum=0.1, affine=True, track_running_stats=True)\n",
       "          (relu): ReLU()\n",
       "        )\n",
       "      )\n",
       "      (conv2d): Conv2d(256, 896, kernel_size=(1, 1), stride=(1, 1))\n",
       "      (relu): ReLU()\n",
       "    )\n",
       "    (6): Block17(\n",
       "      (branch0): BasicConv2d(\n",
       "        (conv): Conv2d(896, 128, kernel_size=(1, 1), stride=(1, 1), bias=False)\n",
       "        (bn): BatchNorm2d(128, eps=0.001, momentum=0.1, affine=True, track_running_stats=True)\n",
       "        (relu): ReLU()\n",
       "      )\n",
       "      (branch1): Sequential(\n",
       "        (0): BasicConv2d(\n",
       "          (conv): Conv2d(896, 128, kernel_size=(1, 1), stride=(1, 1), bias=False)\n",
       "          (bn): BatchNorm2d(128, eps=0.001, momentum=0.1, affine=True, track_running_stats=True)\n",
       "          (relu): ReLU()\n",
       "        )\n",
       "        (1): BasicConv2d(\n",
       "          (conv): Conv2d(128, 128, kernel_size=(1, 7), stride=(1, 1), padding=(0, 3), bias=False)\n",
       "          (bn): BatchNorm2d(128, eps=0.001, momentum=0.1, affine=True, track_running_stats=True)\n",
       "          (relu): ReLU()\n",
       "        )\n",
       "        (2): BasicConv2d(\n",
       "          (conv): Conv2d(128, 128, kernel_size=(7, 1), stride=(1, 1), padding=(3, 0), bias=False)\n",
       "          (bn): BatchNorm2d(128, eps=0.001, momentum=0.1, affine=True, track_running_stats=True)\n",
       "          (relu): ReLU()\n",
       "        )\n",
       "      )\n",
       "      (conv2d): Conv2d(256, 896, kernel_size=(1, 1), stride=(1, 1))\n",
       "      (relu): ReLU()\n",
       "    )\n",
       "    (7): Block17(\n",
       "      (branch0): BasicConv2d(\n",
       "        (conv): Conv2d(896, 128, kernel_size=(1, 1), stride=(1, 1), bias=False)\n",
       "        (bn): BatchNorm2d(128, eps=0.001, momentum=0.1, affine=True, track_running_stats=True)\n",
       "        (relu): ReLU()\n",
       "      )\n",
       "      (branch1): Sequential(\n",
       "        (0): BasicConv2d(\n",
       "          (conv): Conv2d(896, 128, kernel_size=(1, 1), stride=(1, 1), bias=False)\n",
       "          (bn): BatchNorm2d(128, eps=0.001, momentum=0.1, affine=True, track_running_stats=True)\n",
       "          (relu): ReLU()\n",
       "        )\n",
       "        (1): BasicConv2d(\n",
       "          (conv): Conv2d(128, 128, kernel_size=(1, 7), stride=(1, 1), padding=(0, 3), bias=False)\n",
       "          (bn): BatchNorm2d(128, eps=0.001, momentum=0.1, affine=True, track_running_stats=True)\n",
       "          (relu): ReLU()\n",
       "        )\n",
       "        (2): BasicConv2d(\n",
       "          (conv): Conv2d(128, 128, kernel_size=(7, 1), stride=(1, 1), padding=(3, 0), bias=False)\n",
       "          (bn): BatchNorm2d(128, eps=0.001, momentum=0.1, affine=True, track_running_stats=True)\n",
       "          (relu): ReLU()\n",
       "        )\n",
       "      )\n",
       "      (conv2d): Conv2d(256, 896, kernel_size=(1, 1), stride=(1, 1))\n",
       "      (relu): ReLU()\n",
       "    )\n",
       "    (8): Block17(\n",
       "      (branch0): BasicConv2d(\n",
       "        (conv): Conv2d(896, 128, kernel_size=(1, 1), stride=(1, 1), bias=False)\n",
       "        (bn): BatchNorm2d(128, eps=0.001, momentum=0.1, affine=True, track_running_stats=True)\n",
       "        (relu): ReLU()\n",
       "      )\n",
       "      (branch1): Sequential(\n",
       "        (0): BasicConv2d(\n",
       "          (conv): Conv2d(896, 128, kernel_size=(1, 1), stride=(1, 1), bias=False)\n",
       "          (bn): BatchNorm2d(128, eps=0.001, momentum=0.1, affine=True, track_running_stats=True)\n",
       "          (relu): ReLU()\n",
       "        )\n",
       "        (1): BasicConv2d(\n",
       "          (conv): Conv2d(128, 128, kernel_size=(1, 7), stride=(1, 1), padding=(0, 3), bias=False)\n",
       "          (bn): BatchNorm2d(128, eps=0.001, momentum=0.1, affine=True, track_running_stats=True)\n",
       "          (relu): ReLU()\n",
       "        )\n",
       "        (2): BasicConv2d(\n",
       "          (conv): Conv2d(128, 128, kernel_size=(7, 1), stride=(1, 1), padding=(3, 0), bias=False)\n",
       "          (bn): BatchNorm2d(128, eps=0.001, momentum=0.1, affine=True, track_running_stats=True)\n",
       "          (relu): ReLU()\n",
       "        )\n",
       "      )\n",
       "      (conv2d): Conv2d(256, 896, kernel_size=(1, 1), stride=(1, 1))\n",
       "      (relu): ReLU()\n",
       "    )\n",
       "    (9): Block17(\n",
       "      (branch0): BasicConv2d(\n",
       "        (conv): Conv2d(896, 128, kernel_size=(1, 1), stride=(1, 1), bias=False)\n",
       "        (bn): BatchNorm2d(128, eps=0.001, momentum=0.1, affine=True, track_running_stats=True)\n",
       "        (relu): ReLU()\n",
       "      )\n",
       "      (branch1): Sequential(\n",
       "        (0): BasicConv2d(\n",
       "          (conv): Conv2d(896, 128, kernel_size=(1, 1), stride=(1, 1), bias=False)\n",
       "          (bn): BatchNorm2d(128, eps=0.001, momentum=0.1, affine=True, track_running_stats=True)\n",
       "          (relu): ReLU()\n",
       "        )\n",
       "        (1): BasicConv2d(\n",
       "          (conv): Conv2d(128, 128, kernel_size=(1, 7), stride=(1, 1), padding=(0, 3), bias=False)\n",
       "          (bn): BatchNorm2d(128, eps=0.001, momentum=0.1, affine=True, track_running_stats=True)\n",
       "          (relu): ReLU()\n",
       "        )\n",
       "        (2): BasicConv2d(\n",
       "          (conv): Conv2d(128, 128, kernel_size=(7, 1), stride=(1, 1), padding=(3, 0), bias=False)\n",
       "          (bn): BatchNorm2d(128, eps=0.001, momentum=0.1, affine=True, track_running_stats=True)\n",
       "          (relu): ReLU()\n",
       "        )\n",
       "      )\n",
       "      (conv2d): Conv2d(256, 896, kernel_size=(1, 1), stride=(1, 1))\n",
       "      (relu): ReLU()\n",
       "    )\n",
       "  )\n",
       "  (mixed_7a): Mixed_7a(\n",
       "    (branch0): Sequential(\n",
       "      (0): BasicConv2d(\n",
       "        (conv): Conv2d(896, 256, kernel_size=(1, 1), stride=(1, 1), bias=False)\n",
       "        (bn): BatchNorm2d(256, eps=0.001, momentum=0.1, affine=True, track_running_stats=True)\n",
       "        (relu): ReLU()\n",
       "      )\n",
       "      (1): BasicConv2d(\n",
       "        (conv): Conv2d(256, 384, kernel_size=(3, 3), stride=(2, 2), bias=False)\n",
       "        (bn): BatchNorm2d(384, eps=0.001, momentum=0.1, affine=True, track_running_stats=True)\n",
       "        (relu): ReLU()\n",
       "      )\n",
       "    )\n",
       "    (branch1): Sequential(\n",
       "      (0): BasicConv2d(\n",
       "        (conv): Conv2d(896, 256, kernel_size=(1, 1), stride=(1, 1), bias=False)\n",
       "        (bn): BatchNorm2d(256, eps=0.001, momentum=0.1, affine=True, track_running_stats=True)\n",
       "        (relu): ReLU()\n",
       "      )\n",
       "      (1): BasicConv2d(\n",
       "        (conv): Conv2d(256, 256, kernel_size=(3, 3), stride=(2, 2), bias=False)\n",
       "        (bn): BatchNorm2d(256, eps=0.001, momentum=0.1, affine=True, track_running_stats=True)\n",
       "        (relu): ReLU()\n",
       "      )\n",
       "    )\n",
       "    (branch2): Sequential(\n",
       "      (0): BasicConv2d(\n",
       "        (conv): Conv2d(896, 256, kernel_size=(1, 1), stride=(1, 1), bias=False)\n",
       "        (bn): BatchNorm2d(256, eps=0.001, momentum=0.1, affine=True, track_running_stats=True)\n",
       "        (relu): ReLU()\n",
       "      )\n",
       "      (1): BasicConv2d(\n",
       "        (conv): Conv2d(256, 256, kernel_size=(3, 3), stride=(1, 1), padding=(1, 1), bias=False)\n",
       "        (bn): BatchNorm2d(256, eps=0.001, momentum=0.1, affine=True, track_running_stats=True)\n",
       "        (relu): ReLU()\n",
       "      )\n",
       "      (2): BasicConv2d(\n",
       "        (conv): Conv2d(256, 256, kernel_size=(3, 3), stride=(2, 2), bias=False)\n",
       "        (bn): BatchNorm2d(256, eps=0.001, momentum=0.1, affine=True, track_running_stats=True)\n",
       "        (relu): ReLU()\n",
       "      )\n",
       "    )\n",
       "    (branch3): MaxPool2d(kernel_size=3, stride=2, padding=0, dilation=1, ceil_mode=False)\n",
       "  )\n",
       "  (repeat_3): Sequential(\n",
       "    (0): Block8(\n",
       "      (branch0): BasicConv2d(\n",
       "        (conv): Conv2d(1792, 192, kernel_size=(1, 1), stride=(1, 1), bias=False)\n",
       "        (bn): BatchNorm2d(192, eps=0.001, momentum=0.1, affine=True, track_running_stats=True)\n",
       "        (relu): ReLU()\n",
       "      )\n",
       "      (branch1): Sequential(\n",
       "        (0): BasicConv2d(\n",
       "          (conv): Conv2d(1792, 192, kernel_size=(1, 1), stride=(1, 1), bias=False)\n",
       "          (bn): BatchNorm2d(192, eps=0.001, momentum=0.1, affine=True, track_running_stats=True)\n",
       "          (relu): ReLU()\n",
       "        )\n",
       "        (1): BasicConv2d(\n",
       "          (conv): Conv2d(192, 192, kernel_size=(1, 3), stride=(1, 1), padding=(0, 1), bias=False)\n",
       "          (bn): BatchNorm2d(192, eps=0.001, momentum=0.1, affine=True, track_running_stats=True)\n",
       "          (relu): ReLU()\n",
       "        )\n",
       "        (2): BasicConv2d(\n",
       "          (conv): Conv2d(192, 192, kernel_size=(3, 1), stride=(1, 1), padding=(1, 0), bias=False)\n",
       "          (bn): BatchNorm2d(192, eps=0.001, momentum=0.1, affine=True, track_running_stats=True)\n",
       "          (relu): ReLU()\n",
       "        )\n",
       "      )\n",
       "      (conv2d): Conv2d(384, 1792, kernel_size=(1, 1), stride=(1, 1))\n",
       "      (relu): ReLU()\n",
       "    )\n",
       "    (1): Block8(\n",
       "      (branch0): BasicConv2d(\n",
       "        (conv): Conv2d(1792, 192, kernel_size=(1, 1), stride=(1, 1), bias=False)\n",
       "        (bn): BatchNorm2d(192, eps=0.001, momentum=0.1, affine=True, track_running_stats=True)\n",
       "        (relu): ReLU()\n",
       "      )\n",
       "      (branch1): Sequential(\n",
       "        (0): BasicConv2d(\n",
       "          (conv): Conv2d(1792, 192, kernel_size=(1, 1), stride=(1, 1), bias=False)\n",
       "          (bn): BatchNorm2d(192, eps=0.001, momentum=0.1, affine=True, track_running_stats=True)\n",
       "          (relu): ReLU()\n",
       "        )\n",
       "        (1): BasicConv2d(\n",
       "          (conv): Conv2d(192, 192, kernel_size=(1, 3), stride=(1, 1), padding=(0, 1), bias=False)\n",
       "          (bn): BatchNorm2d(192, eps=0.001, momentum=0.1, affine=True, track_running_stats=True)\n",
       "          (relu): ReLU()\n",
       "        )\n",
       "        (2): BasicConv2d(\n",
       "          (conv): Conv2d(192, 192, kernel_size=(3, 1), stride=(1, 1), padding=(1, 0), bias=False)\n",
       "          (bn): BatchNorm2d(192, eps=0.001, momentum=0.1, affine=True, track_running_stats=True)\n",
       "          (relu): ReLU()\n",
       "        )\n",
       "      )\n",
       "      (conv2d): Conv2d(384, 1792, kernel_size=(1, 1), stride=(1, 1))\n",
       "      (relu): ReLU()\n",
       "    )\n",
       "    (2): Block8(\n",
       "      (branch0): BasicConv2d(\n",
       "        (conv): Conv2d(1792, 192, kernel_size=(1, 1), stride=(1, 1), bias=False)\n",
       "        (bn): BatchNorm2d(192, eps=0.001, momentum=0.1, affine=True, track_running_stats=True)\n",
       "        (relu): ReLU()\n",
       "      )\n",
       "      (branch1): Sequential(\n",
       "        (0): BasicConv2d(\n",
       "          (conv): Conv2d(1792, 192, kernel_size=(1, 1), stride=(1, 1), bias=False)\n",
       "          (bn): BatchNorm2d(192, eps=0.001, momentum=0.1, affine=True, track_running_stats=True)\n",
       "          (relu): ReLU()\n",
       "        )\n",
       "        (1): BasicConv2d(\n",
       "          (conv): Conv2d(192, 192, kernel_size=(1, 3), stride=(1, 1), padding=(0, 1), bias=False)\n",
       "          (bn): BatchNorm2d(192, eps=0.001, momentum=0.1, affine=True, track_running_stats=True)\n",
       "          (relu): ReLU()\n",
       "        )\n",
       "        (2): BasicConv2d(\n",
       "          (conv): Conv2d(192, 192, kernel_size=(3, 1), stride=(1, 1), padding=(1, 0), bias=False)\n",
       "          (bn): BatchNorm2d(192, eps=0.001, momentum=0.1, affine=True, track_running_stats=True)\n",
       "          (relu): ReLU()\n",
       "        )\n",
       "      )\n",
       "      (conv2d): Conv2d(384, 1792, kernel_size=(1, 1), stride=(1, 1))\n",
       "      (relu): ReLU()\n",
       "    )\n",
       "    (3): Block8(\n",
       "      (branch0): BasicConv2d(\n",
       "        (conv): Conv2d(1792, 192, kernel_size=(1, 1), stride=(1, 1), bias=False)\n",
       "        (bn): BatchNorm2d(192, eps=0.001, momentum=0.1, affine=True, track_running_stats=True)\n",
       "        (relu): ReLU()\n",
       "      )\n",
       "      (branch1): Sequential(\n",
       "        (0): BasicConv2d(\n",
       "          (conv): Conv2d(1792, 192, kernel_size=(1, 1), stride=(1, 1), bias=False)\n",
       "          (bn): BatchNorm2d(192, eps=0.001, momentum=0.1, affine=True, track_running_stats=True)\n",
       "          (relu): ReLU()\n",
       "        )\n",
       "        (1): BasicConv2d(\n",
       "          (conv): Conv2d(192, 192, kernel_size=(1, 3), stride=(1, 1), padding=(0, 1), bias=False)\n",
       "          (bn): BatchNorm2d(192, eps=0.001, momentum=0.1, affine=True, track_running_stats=True)\n",
       "          (relu): ReLU()\n",
       "        )\n",
       "        (2): BasicConv2d(\n",
       "          (conv): Conv2d(192, 192, kernel_size=(3, 1), stride=(1, 1), padding=(1, 0), bias=False)\n",
       "          (bn): BatchNorm2d(192, eps=0.001, momentum=0.1, affine=True, track_running_stats=True)\n",
       "          (relu): ReLU()\n",
       "        )\n",
       "      )\n",
       "      (conv2d): Conv2d(384, 1792, kernel_size=(1, 1), stride=(1, 1))\n",
       "      (relu): ReLU()\n",
       "    )\n",
       "    (4): Block8(\n",
       "      (branch0): BasicConv2d(\n",
       "        (conv): Conv2d(1792, 192, kernel_size=(1, 1), stride=(1, 1), bias=False)\n",
       "        (bn): BatchNorm2d(192, eps=0.001, momentum=0.1, affine=True, track_running_stats=True)\n",
       "        (relu): ReLU()\n",
       "      )\n",
       "      (branch1): Sequential(\n",
       "        (0): BasicConv2d(\n",
       "          (conv): Conv2d(1792, 192, kernel_size=(1, 1), stride=(1, 1), bias=False)\n",
       "          (bn): BatchNorm2d(192, eps=0.001, momentum=0.1, affine=True, track_running_stats=True)\n",
       "          (relu): ReLU()\n",
       "        )\n",
       "        (1): BasicConv2d(\n",
       "          (conv): Conv2d(192, 192, kernel_size=(1, 3), stride=(1, 1), padding=(0, 1), bias=False)\n",
       "          (bn): BatchNorm2d(192, eps=0.001, momentum=0.1, affine=True, track_running_stats=True)\n",
       "          (relu): ReLU()\n",
       "        )\n",
       "        (2): BasicConv2d(\n",
       "          (conv): Conv2d(192, 192, kernel_size=(3, 1), stride=(1, 1), padding=(1, 0), bias=False)\n",
       "          (bn): BatchNorm2d(192, eps=0.001, momentum=0.1, affine=True, track_running_stats=True)\n",
       "          (relu): ReLU()\n",
       "        )\n",
       "      )\n",
       "      (conv2d): Conv2d(384, 1792, kernel_size=(1, 1), stride=(1, 1))\n",
       "      (relu): ReLU()\n",
       "    )\n",
       "  )\n",
       "  (block8): Block8(\n",
       "    (branch0): BasicConv2d(\n",
       "      (conv): Conv2d(1792, 192, kernel_size=(1, 1), stride=(1, 1), bias=False)\n",
       "      (bn): BatchNorm2d(192, eps=0.001, momentum=0.1, affine=True, track_running_stats=True)\n",
       "      (relu): ReLU()\n",
       "    )\n",
       "    (branch1): Sequential(\n",
       "      (0): BasicConv2d(\n",
       "        (conv): Conv2d(1792, 192, kernel_size=(1, 1), stride=(1, 1), bias=False)\n",
       "        (bn): BatchNorm2d(192, eps=0.001, momentum=0.1, affine=True, track_running_stats=True)\n",
       "        (relu): ReLU()\n",
       "      )\n",
       "      (1): BasicConv2d(\n",
       "        (conv): Conv2d(192, 192, kernel_size=(1, 3), stride=(1, 1), padding=(0, 1), bias=False)\n",
       "        (bn): BatchNorm2d(192, eps=0.001, momentum=0.1, affine=True, track_running_stats=True)\n",
       "        (relu): ReLU()\n",
       "      )\n",
       "      (2): BasicConv2d(\n",
       "        (conv): Conv2d(192, 192, kernel_size=(3, 1), stride=(1, 1), padding=(1, 0), bias=False)\n",
       "        (bn): BatchNorm2d(192, eps=0.001, momentum=0.1, affine=True, track_running_stats=True)\n",
       "        (relu): ReLU()\n",
       "      )\n",
       "    )\n",
       "    (conv2d): Conv2d(384, 1792, kernel_size=(1, 1), stride=(1, 1))\n",
       "  )\n",
       "  (avgpool_1a): AdaptiveAvgPool2d(output_size=1)\n",
       "  (dropout): Dropout(p=0.6, inplace=False)\n",
       "  (last_linear): Linear(in_features=1792, out_features=512, bias=False)\n",
       "  (last_bn): BatchNorm1d(512, eps=0.001, momentum=0.1, affine=True, track_running_stats=True)\n",
       "  (logits): Linear(in_features=512, out_features=8631, bias=True)\n",
       ")"
      ]
     },
     "execution_count": 2,
     "metadata": {},
     "output_type": "execute_result"
    }
   ],
   "source": [
    "resnet = InceptionResnetV1(pretrained='vggface2').eval()\n",
    "resnet.to('cuda')"
   ]
  },
  {
   "cell_type": "code",
   "execution_count": 3,
   "metadata": {},
   "outputs": [],
   "source": [
    "data_dir = Path(\"/home/matt/datasets/vgg_face_v2/cropped/\")"
   ]
  },
  {
   "cell_type": "code",
   "execution_count": 4,
   "metadata": {},
   "outputs": [],
   "source": [
    "def plot_pairwise_score(model, pair):\n",
    "    imgs_embeddings = list()\n",
    "    imgs = list()\n",
    "    #f, ax = plt.subplots(nrows=1, ncols=2)\n",
    "    \n",
    "    for img_path in pair:\n",
    "       \n",
    "        img = cv2.imread(str(img_path))\n",
    "        img = cv2.resize(img, (160,160))\n",
    "        imgs.append(img)\n",
    "        img = np.array(img)\n",
    "        img = ToTensor()(img)\n",
    "        \n",
    "        model.classify = False\n",
    "        img_embedding = model(img.unsqueeze(0).to('cuda'))\n",
    "        imgs_embeddings.append(img_embedding.detach().cpu().numpy())\n",
    "\n",
    "    verification_score = cosine_similarity(imgs_embeddings[0], imgs_embeddings[1])[0][0]\n",
    "    \n",
    "#     f.suptitle(f\"Verif score = {verification_score:.5f}\")\n",
    "#     ax[0].imshow(imgs[0])\n",
    "#     ax[1].imshow(imgs[1])\n",
    "    \n",
    "#     return ax\n",
    "    return {'images': imgs, 'verification_score': verification_score, 'images_paths':pair}"
   ]
  },
  {
   "cell_type": "code",
   "execution_count": null,
   "metadata": {
    "scrolled": true
   },
   "outputs": [
    {
     "name": "stdout",
     "output_type": "stream",
     "text": [
      "Processing cropped_n001256\n"
     ]
    },
    {
     "data": {
      "application/vnd.jupyter.widget-view+json": {
       "model_id": "b08060f4178f4e6eba37a8a1341f0f3e",
       "version_major": 2,
       "version_minor": 0
      },
      "text/plain": [
       "  0%|          | 0/92235 [00:00<?, ?it/s]"
      ]
     },
     "metadata": {},
     "output_type": "display_data"
    },
    {
     "name": "stdout",
     "output_type": "stream",
     "text": [
      "Processing cropped_n001275\n"
     ]
    },
    {
     "data": {
      "application/vnd.jupyter.widget-view+json": {
       "model_id": "9d98c505e0084ab383a90a1ad88a625c",
       "version_major": 2,
       "version_minor": 0
      },
      "text/plain": [
       "  0%|          | 0/44850 [00:00<?, ?it/s]"
      ]
     },
     "metadata": {},
     "output_type": "display_data"
    },
    {
     "name": "stdout",
     "output_type": "stream",
     "text": [
      "Processing cropped_n001277\n"
     ]
    },
    {
     "data": {
      "application/vnd.jupyter.widget-view+json": {
       "model_id": "ff98fe32a16e4f518a87e415fddd1dab",
       "version_major": 2,
       "version_minor": 0
      },
      "text/plain": [
       "  0%|          | 0/29403 [00:00<?, ?it/s]"
      ]
     },
     "metadata": {},
     "output_type": "display_data"
    },
    {
     "name": "stdout",
     "output_type": "stream",
     "text": [
      "Processing cropped_n001288\n"
     ]
    },
    {
     "data": {
      "application/vnd.jupyter.widget-view+json": {
       "model_id": "36766c78b95a4b9baed527c71a20b7fe",
       "version_major": 2,
       "version_minor": 0
      },
      "text/plain": [
       "  0%|          | 0/44850 [00:00<?, ?it/s]"
      ]
     },
     "metadata": {},
     "output_type": "display_data"
    },
    {
     "name": "stdout",
     "output_type": "stream",
     "text": [
      "Processing cropped_n001291\n"
     ]
    },
    {
     "data": {
      "application/vnd.jupyter.widget-view+json": {
       "model_id": "4f3e375e76fd45b2a02b4924ac9119d0",
       "version_major": 2,
       "version_minor": 0
      },
      "text/plain": [
       "  0%|          | 0/125751 [00:00<?, ?it/s]"
      ]
     },
     "metadata": {},
     "output_type": "display_data"
    },
    {
     "name": "stdout",
     "output_type": "stream",
     "text": [
      "Processing cropped_n001293\n"
     ]
    },
    {
     "data": {
      "application/vnd.jupyter.widget-view+json": {
       "model_id": "91f234483e5a44e18aac86827582f527",
       "version_major": 2,
       "version_minor": 0
      },
      "text/plain": [
       "  0%|          | 0/46056 [00:00<?, ?it/s]"
      ]
     },
     "metadata": {},
     "output_type": "display_data"
    },
    {
     "name": "stdout",
     "output_type": "stream",
     "text": [
      "Processing cropped_n001296\n"
     ]
    },
    {
     "data": {
      "application/vnd.jupyter.widget-view+json": {
       "model_id": "095e8dd7ee234aab920ff6c496fce480",
       "version_major": 2,
       "version_minor": 0
      },
      "text/plain": [
       "  0%|          | 0/45451 [00:00<?, ?it/s]"
      ]
     },
     "metadata": {},
     "output_type": "display_data"
    },
    {
     "name": "stdout",
     "output_type": "stream",
     "text": [
      "Processing cropped_n001299\n"
     ]
    },
    {
     "data": {
      "application/vnd.jupyter.widget-view+json": {
       "model_id": "9708280a75f34337adba0f753daacb4c",
       "version_major": 2,
       "version_minor": 0
      },
      "text/plain": [
       "  0%|          | 0/27966 [00:00<?, ?it/s]"
      ]
     },
     "metadata": {},
     "output_type": "display_data"
    },
    {
     "name": "stdout",
     "output_type": "stream",
     "text": [
      "Processing cropped_n001302\n"
     ]
    },
    {
     "data": {
      "application/vnd.jupyter.widget-view+json": {
       "model_id": "12c711f21dc44d79a1f7073f48e6fdb2",
       "version_major": 2,
       "version_minor": 0
      },
      "text/plain": [
       "  0%|          | 0/52326 [00:00<?, ?it/s]"
      ]
     },
     "metadata": {},
     "output_type": "display_data"
    },
    {
     "name": "stdout",
     "output_type": "stream",
     "text": [
      "Processing cropped_n001303\n"
     ]
    },
    {
     "data": {
      "application/vnd.jupyter.widget-view+json": {
       "model_id": "30d30546340c416798fd0d2cdb64b16f",
       "version_major": 2,
       "version_minor": 0
      },
      "text/plain": [
       "  0%|          | 0/51040 [00:00<?, ?it/s]"
      ]
     },
     "metadata": {},
     "output_type": "display_data"
    },
    {
     "name": "stdout",
     "output_type": "stream",
     "text": [
      "Processing cropped_n001304\n"
     ]
    },
    {
     "data": {
      "application/vnd.jupyter.widget-view+json": {
       "model_id": "e33381fd173443b592110f52b39d6219",
       "version_major": 2,
       "version_minor": 0
      },
      "text/plain": [
       "  0%|          | 0/35778 [00:00<?, ?it/s]"
      ]
     },
     "metadata": {},
     "output_type": "display_data"
    },
    {
     "name": "stdout",
     "output_type": "stream",
     "text": [
      "Processing cropped_n001337\n"
     ]
    },
    {
     "data": {
      "application/vnd.jupyter.widget-view+json": {
       "model_id": "b66befac2cae4663ba077c56850f1063",
       "version_major": 2,
       "version_minor": 0
      },
      "text/plain": [
       "  0%|          | 0/21115 [00:00<?, ?it/s]"
      ]
     },
     "metadata": {},
     "output_type": "display_data"
    },
    {
     "name": "stdout",
     "output_type": "stream",
     "text": [
      "Processing cropped_n001341\n"
     ]
    },
    {
     "data": {
      "application/vnd.jupyter.widget-view+json": {
       "model_id": "1757d996c2b34783895d4460022b322b",
       "version_major": 2,
       "version_minor": 0
      },
      "text/plain": [
       "  0%|          | 0/34716 [00:00<?, ?it/s]"
      ]
     },
     "metadata": {},
     "output_type": "display_data"
    },
    {
     "name": "stdout",
     "output_type": "stream",
     "text": [
      "Processing cropped_n001354\n"
     ]
    },
    {
     "data": {
      "application/vnd.jupyter.widget-view+json": {
       "model_id": "eafda9b788384ae3bb33916e3c62da13",
       "version_major": 2,
       "version_minor": 0
      },
      "text/plain": [
       "  0%|          | 0/44850 [00:00<?, ?it/s]"
      ]
     },
     "metadata": {},
     "output_type": "display_data"
    },
    {
     "name": "stdout",
     "output_type": "stream",
     "text": [
      "Processing cropped_n001368\n"
     ]
    },
    {
     "data": {
      "application/vnd.jupyter.widget-view+json": {
       "model_id": "907de9290fa14821a1748a22720a07ab",
       "version_major": 2,
       "version_minor": 0
      },
      "text/plain": [
       "  0%|          | 0/163306 [00:00<?, ?it/s]"
      ]
     },
     "metadata": {},
     "output_type": "display_data"
    },
    {
     "name": "stdout",
     "output_type": "stream",
     "text": [
      "Processing cropped_n001374\n"
     ]
    },
    {
     "data": {
      "application/vnd.jupyter.widget-view+json": {
       "model_id": "a504e4710a6e40b784db82ee6e2aa35d",
       "version_major": 2,
       "version_minor": 0
      },
      "text/plain": [
       "  0%|          | 0/44850 [00:00<?, ?it/s]"
      ]
     },
     "metadata": {},
     "output_type": "display_data"
    },
    {
     "name": "stdout",
     "output_type": "stream",
     "text": [
      "Processing cropped_n001398\n"
     ]
    },
    {
     "data": {
      "application/vnd.jupyter.widget-view+json": {
       "model_id": "41cc61fc3f1a486cae641e1a6c2053f3",
       "version_major": 2,
       "version_minor": 0
      },
      "text/plain": [
       "  0%|          | 0/44850 [00:00<?, ?it/s]"
      ]
     },
     "metadata": {},
     "output_type": "display_data"
    },
    {
     "name": "stdout",
     "output_type": "stream",
     "text": [
      "Processing cropped_n001401\n"
     ]
    },
    {
     "data": {
      "application/vnd.jupyter.widget-view+json": {
       "model_id": "fbd9bb4878b94eeeaa8d9f17d8e95b9e",
       "version_major": 2,
       "version_minor": 0
      },
      "text/plain": [
       "  0%|          | 0/67896 [00:00<?, ?it/s]"
      ]
     },
     "metadata": {},
     "output_type": "display_data"
    },
    {
     "name": "stdout",
     "output_type": "stream",
     "text": [
      "Processing cropped_n001418\n"
     ]
    },
    {
     "data": {
      "application/vnd.jupyter.widget-view+json": {
       "model_id": "75fa98d996f648f38b43563d3628faf1",
       "version_major": 2,
       "version_minor": 0
      },
      "text/plain": [
       "  0%|          | 0/101475 [00:00<?, ?it/s]"
      ]
     },
     "metadata": {},
     "output_type": "display_data"
    },
    {
     "name": "stdout",
     "output_type": "stream",
     "text": [
      "Processing cropped_n001430\n"
     ]
    },
    {
     "data": {
      "application/vnd.jupyter.widget-view+json": {
       "model_id": "163d5dafb484496b940fb5f6d8f28953",
       "version_major": 2,
       "version_minor": 0
      },
      "text/plain": [
       "  0%|          | 0/44850 [00:00<?, ?it/s]"
      ]
     },
     "metadata": {},
     "output_type": "display_data"
    },
    {
     "name": "stdout",
     "output_type": "stream",
     "text": [
      "Processing cropped_n001437\n"
     ]
    },
    {
     "data": {
      "application/vnd.jupyter.widget-view+json": {
       "model_id": "326bb853a0e5484d802127932c902af9",
       "version_major": 2,
       "version_minor": 0
      },
      "text/plain": [
       "  0%|          | 0/44850 [00:00<?, ?it/s]"
      ]
     },
     "metadata": {},
     "output_type": "display_data"
    },
    {
     "name": "stdout",
     "output_type": "stream",
     "text": [
      "Processing cropped_n001439\n"
     ]
    },
    {
     "data": {
      "application/vnd.jupyter.widget-view+json": {
       "model_id": "e8c8134b9a0e4babb239aef9eb7448b3",
       "version_major": 2,
       "version_minor": 0
      },
      "text/plain": [
       "  0%|          | 0/80200 [00:00<?, ?it/s]"
      ]
     },
     "metadata": {},
     "output_type": "display_data"
    },
    {
     "name": "stdout",
     "output_type": "stream",
     "text": [
      "Processing cropped_n001446\n"
     ]
    },
    {
     "data": {
      "application/vnd.jupyter.widget-view+json": {
       "model_id": "04f603f387734efcb448f1f43369641b",
       "version_major": 2,
       "version_minor": 0
      },
      "text/plain": [
       "  0%|          | 0/77815 [00:00<?, ?it/s]"
      ]
     },
     "metadata": {},
     "output_type": "display_data"
    },
    {
     "name": "stdout",
     "output_type": "stream",
     "text": [
      "Processing cropped_n001467\n"
     ]
    },
    {
     "data": {
      "application/vnd.jupyter.widget-view+json": {
       "model_id": "d235bb5f21484585943b26d24d456248",
       "version_major": 2,
       "version_minor": 0
      },
      "text/plain": [
       "  0%|          | 0/23436 [00:00<?, ?it/s]"
      ]
     },
     "metadata": {},
     "output_type": "display_data"
    },
    {
     "name": "stdout",
     "output_type": "stream",
     "text": [
      "Processing cropped_n001485\n"
     ]
    },
    {
     "data": {
      "application/vnd.jupyter.widget-view+json": {
       "model_id": "52bc195aafe94be0a4df6410ee6aaf3e",
       "version_major": 2,
       "version_minor": 0
      },
      "text/plain": [
       "  0%|          | 0/95266 [00:00<?, ?it/s]"
      ]
     },
     "metadata": {},
     "output_type": "display_data"
    },
    {
     "name": "stdout",
     "output_type": "stream",
     "text": [
      "Processing cropped_n001511\n"
     ]
    },
    {
     "data": {
      "application/vnd.jupyter.widget-view+json": {
       "model_id": "b26ba74460124934802e4ff3e7d3e3a0",
       "version_major": 2,
       "version_minor": 0
      },
      "text/plain": [
       "  0%|          | 0/44850 [00:00<?, ?it/s]"
      ]
     },
     "metadata": {},
     "output_type": "display_data"
    }
   ],
   "source": [
    "mated_pairs = dict()\n",
    "\n",
    "#stopped on cropped_n001256\n",
    "for directory in sorted(list(data_dir.iterdir()))[128:]:\n",
    "    annotations = {}\n",
    "    directory_name = directory.parts[-1]\n",
    "    print(f\"Processing {directory_name}\")\n",
    "    if not directory_name in annotations.keys():\n",
    "        annotations[directory_name] = list()\n",
    "        \n",
    "    filenames = list(directory.iterdir())\n",
    "    pairwise_filenames = sorted(list(itertools.combinations(filenames, 2))) \n",
    "    \n",
    "    for i in tqdm(range(len(pairwise_filenames))):\n",
    "#     for i in tqdm(range(len(filenames))):\n",
    "        pair = pairwise_filenames[i]\n",
    "        paired_images_filenames = [p.parts[-1] for p in pair]\n",
    "\n",
    "        element = plot_pairwise_score(resnet, pair)\n",
    "        mated_pairs[i] = element\n",
    "        annotations[directory_name].append({'images': paired_images_filenames, \n",
    "                                            'verification_score':format(element['verification_score'], \".4f\")})\n",
    "    with open(Path(directory, 'annotations.json'), 'w') as outfile:\n",
    "        json.dump(annotations, outfile)"
   ]
  },
  {
   "cell_type": "code",
   "execution_count": 6,
   "metadata": {},
   "outputs": [
    {
     "data": {
      "text/plain": [
       "{'cropped_n006659': [{'images': ['0001_01.jpg', '0002_02.jpg'],\n",
       "   'verification_score': 0.8740524},\n",
       "  {'images': ['0001_01.jpg', '0003_01.jpg'], 'verification_score': 0.8730962},\n",
       "  {'images': ['0001_01.jpg', '0005_01.jpg'], 'verification_score': 0.82191205},\n",
       "  {'images': ['0001_01.jpg', '0008_01.jpg'], 'verification_score': 0.90328693},\n",
       "  {'images': ['0001_01.jpg', '0009_01.jpg'], 'verification_score': 0.8529669},\n",
       "  {'images': ['0001_01.jpg', '0011_01.jpg'], 'verification_score': 0.8130106},\n",
       "  {'images': ['0001_01.jpg', '0013_01.jpg'], 'verification_score': 0.87652016},\n",
       "  {'images': ['0001_01.jpg', '0014_02.jpg'], 'verification_score': 0.8839687},\n",
       "  {'images': ['0001_01.jpg', '0015_01.jpg'], 'verification_score': 0.8400742},\n",
       "  {'images': ['0001_01.jpg', '0018_01.jpg'], 'verification_score': 0.644122},\n",
       "  {'images': ['0001_01.jpg', '0021_01.jpg'], 'verification_score': 0.8648404},\n",
       "  {'images': ['0001_01.jpg', '0028_01.jpg'], 'verification_score': 0.77811295},\n",
       "  {'images': ['0001_01.jpg', '0029_01.jpg'], 'verification_score': 0.5803401},\n",
       "  {'images': ['0001_01.jpg', '0037_02.jpg'], 'verification_score': 0.8023918},\n",
       "  {'images': ['0001_01.jpg', '0040_01.jpg'], 'verification_score': 0.79667693},\n",
       "  {'images': ['0001_01.jpg', '0046_01.jpg'], 'verification_score': 0.83766675},\n",
       "  {'images': ['0001_01.jpg', '0047_02.jpg'], 'verification_score': 0.85636187},\n",
       "  {'images': ['0001_01.jpg', '0052_07.jpg'], 'verification_score': 0.7213488},\n",
       "  {'images': ['0001_01.jpg', '0055_01.jpg'], 'verification_score': 0.8386525},\n",
       "  {'images': ['0001_01.jpg', '0056_01.jpg'], 'verification_score': 0.81316906},\n",
       "  {'images': ['0001_01.jpg', '0057_01.jpg'], 'verification_score': 0.7917746},\n",
       "  {'images': ['0001_01.jpg', '0059_01.jpg'], 'verification_score': 0.8047844},\n",
       "  {'images': ['0001_01.jpg', '0063_01.jpg'], 'verification_score': 0.8335326},\n",
       "  {'images': ['0001_01.jpg', '0067_01.jpg'], 'verification_score': 0.86130905},\n",
       "  {'images': ['0001_01.jpg', '0068_01.jpg'], 'verification_score': 0.80996984},\n",
       "  {'images': ['0001_01.jpg', '0069_02.jpg'], 'verification_score': 0.7607337},\n",
       "  {'images': ['0001_01.jpg', '0081_01.jpg'], 'verification_score': 0.8032286},\n",
       "  {'images': ['0001_01.jpg', '0086_01.jpg'], 'verification_score': 0.8527984},\n",
       "  {'images': ['0001_01.jpg', '0087_01.jpg'], 'verification_score': 0.8532754},\n",
       "  {'images': ['0001_01.jpg', '0090_01.jpg'], 'verification_score': 0.8436193},\n",
       "  {'images': ['0001_01.jpg', '0091_02.jpg'], 'verification_score': 0.79000974},\n",
       "  {'images': ['0001_01.jpg', '0096_01.jpg'], 'verification_score': 0.7775955},\n",
       "  {'images': ['0001_01.jpg', '0101_01.jpg'], 'verification_score': 0.8666669},\n",
       "  {'images': ['0001_01.jpg', '0103_02.jpg'], 'verification_score': 0.8388265},\n",
       "  {'images': ['0001_01.jpg', '0104_02.jpg'], 'verification_score': 0.6736668},\n",
       "  {'images': ['0001_01.jpg', '0105_01.jpg'], 'verification_score': 0.8219678},\n",
       "  {'images': ['0001_01.jpg', '0106_03.jpg'], 'verification_score': 0.699772},\n",
       "  {'images': ['0001_01.jpg', '0114_01.jpg'], 'verification_score': 0.7000047},\n",
       "  {'images': ['0001_01.jpg', '0116_01.jpg'], 'verification_score': 0.57964474},\n",
       "  {'images': ['0001_01.jpg', '0118_02.jpg'], 'verification_score': 0.78571033},\n",
       "  {'images': ['0001_01.jpg', '0120_01.jpg'], 'verification_score': 0.8336873},\n",
       "  {'images': ['0001_01.jpg', '0122_02.jpg'],\n",
       "   'verification_score': -0.25734508},\n",
       "  {'images': ['0001_01.jpg', '0125_03.jpg'], 'verification_score': 0.81530654},\n",
       "  {'images': ['0001_01.jpg', '0126_01.jpg'], 'verification_score': 0.6290132},\n",
       "  {'images': ['0001_01.jpg', '0129_02.jpg'], 'verification_score': 0.8475514},\n",
       "  {'images': ['0001_01.jpg', '0131_01.jpg'], 'verification_score': 0.7658032},\n",
       "  {'images': ['0001_01.jpg', '0132_02.jpg'], 'verification_score': 0.69776595},\n",
       "  {'images': ['0001_01.jpg', '0133_01.jpg'], 'verification_score': 0.66642016},\n",
       "  {'images': ['0001_01.jpg', '0139_01.jpg'], 'verification_score': 0.6537993},\n",
       "  {'images': ['0001_01.jpg', '0140_01.jpg'], 'verification_score': 0.60768926},\n",
       "  {'images': ['0001_01.jpg', '0141_03.jpg'], 'verification_score': 0.78778696},\n",
       "  {'images': ['0001_01.jpg', '0142_01.jpg'], 'verification_score': 0.56090987},\n",
       "  {'images': ['0001_01.jpg', '0143_01.jpg'], 'verification_score': 0.805817},\n",
       "  {'images': ['0001_01.jpg', '0145_01.jpg'], 'verification_score': 0.75716984},\n",
       "  {'images': ['0001_01.jpg', '0147_01.jpg'], 'verification_score': 0.6352097},\n",
       "  {'images': ['0001_01.jpg', '0148_01.jpg'], 'verification_score': 0.6526805},\n",
       "  {'images': ['0001_01.jpg', '0149_01.jpg'], 'verification_score': 0.7982809},\n",
       "  {'images': ['0001_01.jpg', '0150_01.jpg'], 'verification_score': 0.7305833},\n",
       "  {'images': ['0001_01.jpg', '0151_02.jpg'], 'verification_score': 0.65306807},\n",
       "  {'images': ['0001_01.jpg', '0153_01.jpg'], 'verification_score': 0.66786635},\n",
       "  {'images': ['0001_01.jpg', '0156_02.jpg'], 'verification_score': 0.74930614},\n",
       "  {'images': ['0001_01.jpg', '0157_04.jpg'], 'verification_score': 0.7485002},\n",
       "  {'images': ['0001_01.jpg', '0159_02.jpg'],\n",
       "   'verification_score': -0.17961356},\n",
       "  {'images': ['0001_01.jpg', '0163_01.jpg'], 'verification_score': 0.83487177},\n",
       "  {'images': ['0001_01.jpg', '0165_02.jpg'], 'verification_score': 0.65035284},\n",
       "  {'images': ['0001_01.jpg', '0169_01.jpg'], 'verification_score': 0.67269003},\n",
       "  {'images': ['0001_01.jpg', '0171_02.jpg'], 'verification_score': 0.61471075},\n",
       "  {'images': ['0001_01.jpg', '0174_02.jpg'], 'verification_score': 0.7450263},\n",
       "  {'images': ['0001_01.jpg', '0177_01.jpg'], 'verification_score': 0.7702477},\n",
       "  {'images': ['0001_01.jpg', '0184_02.jpg'], 'verification_score': 0.5739347},\n",
       "  {'images': ['0001_01.jpg', '0185_01.jpg'], 'verification_score': 0.8203356},\n",
       "  {'images': ['0001_01.jpg', '0186_01.jpg'], 'verification_score': 0.6608783},\n",
       "  {'images': ['0001_01.jpg', '0192_01.jpg'], 'verification_score': 0.5552659},\n",
       "  {'images': ['0001_01.jpg', '0196_01.jpg'], 'verification_score': 0.6790277},\n",
       "  {'images': ['0001_01.jpg', '0198_03.jpg'], 'verification_score': 0.7239537},\n",
       "  {'images': ['0001_01.jpg', '0199_01.jpg'], 'verification_score': 0.7985665},\n",
       "  {'images': ['0001_01.jpg', '0200_01.jpg'], 'verification_score': 0.72648454},\n",
       "  {'images': ['0001_01.jpg', '0202_01.jpg'], 'verification_score': 0.6210394},\n",
       "  {'images': ['0001_01.jpg', '0204_01.jpg'], 'verification_score': 0.8076308},\n",
       "  {'images': ['0001_01.jpg', '0206_01.jpg'], 'verification_score': 0.552209},\n",
       "  {'images': ['0001_01.jpg', '0207_01.jpg'],\n",
       "   'verification_score': -0.23458472},\n",
       "  {'images': ['0001_01.jpg', '0209_03.jpg'], 'verification_score': 0.645024},\n",
       "  {'images': ['0001_01.jpg', '0211_02.jpg'], 'verification_score': 0.64778364},\n",
       "  {'images': ['0001_01.jpg', '0219_02.jpg'], 'verification_score': 0.7304163},\n",
       "  {'images': ['0001_01.jpg', '0221_02.jpg'], 'verification_score': 0.73121434},\n",
       "  {'images': ['0001_01.jpg', '0223_01.jpg'],\n",
       "   'verification_score': -0.08889207},\n",
       "  {'images': ['0001_01.jpg', '0225_01.jpg'], 'verification_score': 0.7086791},\n",
       "  {'images': ['0001_01.jpg', '0228_04.jpg'], 'verification_score': 0.6810936},\n",
       "  {'images': ['0001_01.jpg', '0234_06.jpg'], 'verification_score': 0.6977755},\n",
       "  {'images': ['0001_01.jpg', '0238_01.jpg'], 'verification_score': 0.80651265},\n",
       "  {'images': ['0001_01.jpg', '0239_01.jpg'], 'verification_score': 0.82554734},\n",
       "  {'images': ['0001_01.jpg', '0240_01.jpg'], 'verification_score': 0.13013554},\n",
       "  {'images': ['0001_01.jpg', '0242_02.jpg'], 'verification_score': 0.7267778},\n",
       "  {'images': ['0001_01.jpg', '0250_01.jpg'], 'verification_score': 0.5872127},\n",
       "  {'images': ['0001_01.jpg', '0252_02.jpg'], 'verification_score': 0.61096627},\n",
       "  {'images': ['0001_01.jpg', '0255_02.jpg'], 'verification_score': 0.64171207},\n",
       "  {'images': ['0001_01.jpg', '0258_01.jpg'], 'verification_score': 0.6782812},\n",
       "  {'images': ['0001_01.jpg', '0260_01.jpg'], 'verification_score': 0.68366617},\n",
       "  {'images': ['0001_01.jpg', '0261_04.jpg'], 'verification_score': 0.6701853},\n",
       "  {'images': ['0001_01.jpg', '0262_01.jpg'], 'verification_score': 0.41189218},\n",
       "  {'images': ['0001_01.jpg', '0265_02.jpg'], 'verification_score': 0.53898555},\n",
       "  {'images': ['0001_01.jpg', '0267_01.jpg'], 'verification_score': 0.51029015},\n",
       "  {'images': ['0001_01.jpg', '0268_01.jpg'], 'verification_score': 0.599349},\n",
       "  {'images': ['0001_01.jpg', '0274_01.jpg'], 'verification_score': 0.6956775},\n",
       "  {'images': ['0001_01.jpg', '0278_01.jpg'], 'verification_score': 0.68235093},\n",
       "  {'images': ['0001_01.jpg', '0279_01.jpg'], 'verification_score': 0.6060096},\n",
       "  {'images': ['0001_01.jpg', '0284_01.jpg'], 'verification_score': 0.5325943},\n",
       "  {'images': ['0001_01.jpg', '0285_01.jpg'], 'verification_score': 0.2913177},\n",
       "  {'images': ['0001_01.jpg', '0286_01.jpg'], 'verification_score': 0.5294824},\n",
       "  {'images': ['0001_01.jpg', '0287_01.jpg'], 'verification_score': 0.579753},\n",
       "  {'images': ['0001_01.jpg', '0288_02.jpg'], 'verification_score': 0.08472029},\n",
       "  {'images': ['0001_01.jpg', '0290_02.jpg'], 'verification_score': 0.67217326},\n",
       "  {'images': ['0001_01.jpg', '0291_01.jpg'], 'verification_score': 0.6684359},\n",
       "  {'images': ['0001_01.jpg', '0296_02.jpg'], 'verification_score': 0.67284715},\n",
       "  {'images': ['0001_01.jpg', '0303_01.jpg'], 'verification_score': 0.5329064},\n",
       "  {'images': ['0001_01.jpg', '0306_02.jpg'], 'verification_score': 0.37568986},\n",
       "  {'images': ['0001_01.jpg', '0308_01.jpg'], 'verification_score': 0.9095454},\n",
       "  {'images': ['0001_01.jpg', '0311_01.jpg'], 'verification_score': 0.47542378},\n",
       "  {'images': ['0001_01.jpg', '0369_01.jpg'], 'verification_score': 0.43232986},\n",
       "  {'images': ['0001_01.jpg', '0379_01.jpg'], 'verification_score': 0.47974798},\n",
       "  {'images': ['0001_01.jpg', '0388_01.jpg'], 'verification_score': 0.45104504},\n",
       "  {'images': ['0001_01.jpg', '0407_01.jpg'], 'verification_score': 0.37384966},\n",
       "  {'images': ['0001_01.jpg', '0411_01.jpg'], 'verification_score': 0.5021617},\n",
       "  {'images': ['0001_01.jpg', '0429_01.jpg'], 'verification_score': 0.5444913},\n",
       "  {'images': ['0001_01.jpg', '0433_02.jpg'], 'verification_score': 0.700764},\n",
       "  {'images': ['0001_01.jpg', '0460_01.jpg'], 'verification_score': 0.49265993},\n",
       "  {'images': ['0001_01.jpg', '0480_01.jpg'], 'verification_score': 0.37312722},\n",
       "  {'images': ['0001_01.jpg', '0483_01.jpg'], 'verification_score': 0.4707254},\n",
       "  {'images': ['0001_01.jpg', '0507_01.jpg'], 'verification_score': 0.95815754},\n",
       "  {'images': ['0001_01.jpg', '0508_03.jpg'], 'verification_score': 0.7483864},\n",
       "  {'images': ['0001_01.jpg', '0523_03.jpg'], 'verification_score': 0.70964456},\n",
       "  {'images': ['0001_01.jpg', '0526_02.jpg'], 'verification_score': 0.64250624},\n",
       "  {'images': ['0001_01.jpg', '0527_03.jpg'], 'verification_score': 0.7404623},\n",
       "  {'images': ['0001_01.jpg', '0529_02.jpg'], 'verification_score': 0.7248894},\n",
       "  {'images': ['0001_01.jpg', '0530_02.jpg'], 'verification_score': 0.69868904},\n",
       "  {'images': ['0001_01.jpg', '0533_01.jpg'], 'verification_score': 0.78977334},\n",
       "  {'images': ['0001_01.jpg', '0534_01.jpg'], 'verification_score': 0.8438393},\n",
       "  {'images': ['0001_01.jpg', '0539_01.jpg'],\n",
       "   'verification_score': -0.17846668},\n",
       "  {'images': ['0001_01.jpg', '0540_02.jpg'], 'verification_score': 0.7249782},\n",
       "  {'images': ['0001_01.jpg', '0541_01.jpg'], 'verification_score': 0.63498807},\n",
       "  {'images': ['0001_01.jpg', '0542_01.jpg'], 'verification_score': 0.60027367},\n",
       "  {'images': ['0001_01.jpg', '0545_02.jpg'], 'verification_score': 0.7189785},\n",
       "  {'images': ['0001_01.jpg', '0550_02.jpg'], 'verification_score': 0.65565383},\n",
       "  {'images': ['0001_01.jpg', '0551_02.jpg'], 'verification_score': 0.7856384},\n",
       "  {'images': ['0001_01.jpg', '0554_02.jpg'], 'verification_score': 0.6129972},\n",
       "  {'images': ['0001_01.jpg', '0557_03.jpg'], 'verification_score': 0.5067569},\n",
       "  {'images': ['0001_01.jpg', '0558_04.jpg'], 'verification_score': 0.4521446},\n",
       "  {'images': ['0001_01.jpg', '0563_01.jpg'], 'verification_score': 0.64581394},\n",
       "  {'images': ['0001_01.jpg', '0570_01.jpg'], 'verification_score': 0.4916061},\n",
       "  {'images': ['0001_01.jpg', '0574_01.jpg'], 'verification_score': 0.47748443},\n",
       "  {'images': ['0001_01.jpg', '0578_03.jpg'], 'verification_score': 0.43623465},\n",
       "  {'images': ['0001_01.jpg', '0579_03.jpg'], 'verification_score': 0.49701607},\n",
       "  {'images': ['0001_01.jpg', '0589_01.jpg'], 'verification_score': 0.4117728},\n",
       "  {'images': ['0001_01.jpg', '0594_03.jpg'], 'verification_score': 0.60242116},\n",
       "  {'images': ['0001_01.jpg', '0611_01.jpg'], 'verification_score': 0.49047616},\n",
       "  {'images': ['0002_02.jpg', '0003_01.jpg'], 'verification_score': 0.8597542},\n",
       "  {'images': ['0002_02.jpg', '0005_01.jpg'], 'verification_score': 0.8693516},\n",
       "  {'images': ['0002_02.jpg', '0008_01.jpg'], 'verification_score': 0.91981876},\n",
       "  {'images': ['0002_02.jpg', '0009_01.jpg'], 'verification_score': 0.8443249},\n",
       "  {'images': ['0002_02.jpg', '0014_02.jpg'], 'verification_score': 0.8690487},\n",
       "  {'images': ['0002_02.jpg', '0015_01.jpg'], 'verification_score': 0.87452775},\n",
       "  {'images': ['0002_02.jpg', '0018_01.jpg'], 'verification_score': 0.70074725},\n",
       "  {'images': ['0002_02.jpg', '0021_01.jpg'], 'verification_score': 0.8514143},\n",
       "  {'images': ['0002_02.jpg', '0029_01.jpg'], 'verification_score': 0.58329755},\n",
       "  {'images': ['0002_02.jpg', '0037_02.jpg'], 'verification_score': 0.7943729},\n",
       "  {'images': ['0002_02.jpg', '0046_01.jpg'], 'verification_score': 0.8569329},\n",
       "  {'images': ['0002_02.jpg', '0047_02.jpg'], 'verification_score': 0.87029237},\n",
       "  {'images': ['0002_02.jpg', '0052_07.jpg'], 'verification_score': 0.62528646},\n",
       "  {'images': ['0002_02.jpg', '0055_01.jpg'], 'verification_score': 0.8268516},\n",
       "  {'images': ['0002_02.jpg', '0056_01.jpg'], 'verification_score': 0.8026638},\n",
       "  {'images': ['0002_02.jpg', '0057_01.jpg'], 'verification_score': 0.75493765},\n",
       "  {'images': ['0002_02.jpg', '0067_01.jpg'], 'verification_score': 0.8786971},\n",
       "  {'images': ['0002_02.jpg', '0068_01.jpg'], 'verification_score': 0.79636276},\n",
       "  {'images': ['0002_02.jpg', '0069_02.jpg'], 'verification_score': 0.76705694},\n",
       "  {'images': ['0002_02.jpg', '0087_01.jpg'], 'verification_score': 0.79181445},\n",
       "  {'images': ['0002_02.jpg', '0090_01.jpg'], 'verification_score': 0.8549688},\n",
       "  {'images': ['0002_02.jpg', '0096_01.jpg'], 'verification_score': 0.736264},\n",
       "  {'images': ['0002_02.jpg', '0106_03.jpg'], 'verification_score': 0.6386068},\n",
       "  {'images': ['0002_02.jpg', '0114_01.jpg'], 'verification_score': 0.62760544},\n",
       "  {'images': ['0002_02.jpg', '0116_01.jpg'], 'verification_score': 0.67788815},\n",
       "  {'images': ['0002_02.jpg', '0120_01.jpg'], 'verification_score': 0.83803403},\n",
       "  {'images': ['0002_02.jpg', '0125_03.jpg'], 'verification_score': 0.83544385},\n",
       "  {'images': ['0002_02.jpg', '0129_02.jpg'], 'verification_score': 0.84859204},\n",
       "  {'images': ['0002_02.jpg', '0131_01.jpg'], 'verification_score': 0.8050443},\n",
       "  {'images': ['0002_02.jpg', '0132_02.jpg'], 'verification_score': 0.7323307},\n",
       "  {'images': ['0002_02.jpg', '0133_01.jpg'], 'verification_score': 0.71551764},\n",
       "  {'images': ['0002_02.jpg', '0139_01.jpg'], 'verification_score': 0.6948823},\n",
       "  {'images': ['0002_02.jpg', '0140_01.jpg'], 'verification_score': 0.6674553},\n",
       "  {'images': ['0002_02.jpg', '0142_01.jpg'], 'verification_score': 0.6037597},\n",
       "  {'images': ['0002_02.jpg', '0147_01.jpg'], 'verification_score': 0.69623935},\n",
       "  {'images': ['0002_02.jpg', '0149_01.jpg'], 'verification_score': 0.7780988},\n",
       "  {'images': ['0002_02.jpg', '0150_01.jpg'], 'verification_score': 0.7539989},\n",
       "  {'images': ['0002_02.jpg', '0156_02.jpg'], 'verification_score': 0.726544},\n",
       "  {'images': ['0002_02.jpg', '0159_02.jpg'],\n",
       "   'verification_score': -0.22437148},\n",
       "  {'images': ['0002_02.jpg', '0165_02.jpg'], 'verification_score': 0.6447062},\n",
       "  {'images': ['0002_02.jpg', '0171_02.jpg'], 'verification_score': 0.65732485},\n",
       "  {'images': ['0002_02.jpg', '0177_01.jpg'], 'verification_score': 0.7490488},\n",
       "  {'images': ['0002_02.jpg', '0192_01.jpg'], 'verification_score': 0.6377673},\n",
       "  {'images': ['0002_02.jpg', '0198_03.jpg'], 'verification_score': 0.70594054},\n",
       "  {'images': ['0002_02.jpg', '0199_01.jpg'], 'verification_score': 0.8197808},\n",
       "  {'images': ['0002_02.jpg', '0202_01.jpg'], 'verification_score': 0.6487653},\n",
       "  {'images': ['0002_02.jpg', '0204_01.jpg'], 'verification_score': 0.7433232},\n",
       "  {'images': ['0002_02.jpg', '0207_01.jpg'],\n",
       "   'verification_score': -0.39905208},\n",
       "  {'images': ['0002_02.jpg', '0209_03.jpg'], 'verification_score': 0.65115964},\n",
       "  {'images': ['0002_02.jpg', '0211_02.jpg'], 'verification_score': 0.57205254},\n",
       "  {'images': ['0002_02.jpg', '0223_01.jpg'],\n",
       "   'verification_score': -0.103870735},\n",
       "  {'images': ['0002_02.jpg', '0225_01.jpg'], 'verification_score': 0.76355964},\n",
       "  {'images': ['0002_02.jpg', '0228_04.jpg'], 'verification_score': 0.7188958},\n",
       "  {'images': ['0002_02.jpg', '0238_01.jpg'], 'verification_score': 0.74807376},\n",
       "  {'images': ['0002_02.jpg', '0239_01.jpg'], 'verification_score': 0.76917624},\n",
       "  {'images': ['0002_02.jpg', '0242_02.jpg'], 'verification_score': 0.80946285},\n",
       "  {'images': ['0002_02.jpg', '0252_02.jpg'], 'verification_score': 0.64325136},\n",
       "  {'images': ['0002_02.jpg', '0260_01.jpg'], 'verification_score': 0.6091071},\n",
       "  {'images': ['0002_02.jpg', '0265_02.jpg'], 'verification_score': 0.44148695},\n",
       "  {'images': ['0002_02.jpg', '0267_01.jpg'], 'verification_score': 0.5831243},\n",
       "  {'images': ['0002_02.jpg', '0268_01.jpg'], 'verification_score': 0.58603716},\n",
       "  {'images': ['0002_02.jpg', '0274_01.jpg'], 'verification_score': 0.6358355},\n",
       "  {'images': ['0002_02.jpg', '0278_01.jpg'], 'verification_score': 0.67343736},\n",
       "  {'images': ['0002_02.jpg', '0279_01.jpg'], 'verification_score': 0.62727964},\n",
       "  {'images': ['0002_02.jpg', '0284_01.jpg'], 'verification_score': 0.59335303},\n",
       "  {'images': ['0002_02.jpg', '0288_02.jpg'],\n",
       "   'verification_score': 0.0028370079},\n",
       "  {'images': ['0002_02.jpg', '0290_02.jpg'], 'verification_score': 0.7028368},\n",
       "  {'images': ['0002_02.jpg', '0296_02.jpg'], 'verification_score': 0.66136444},\n",
       "  {'images': ['0002_02.jpg', '0303_01.jpg'], 'verification_score': 0.46416727},\n",
       "  {'images': ['0002_02.jpg', '0308_01.jpg'], 'verification_score': 0.8594442},\n",
       "  {'images': ['0002_02.jpg', '0369_01.jpg'], 'verification_score': 0.52618945},\n",
       "  {'images': ['0002_02.jpg', '0460_01.jpg'], 'verification_score': 0.40271398},\n",
       "  {'images': ['0002_02.jpg', '0483_01.jpg'], 'verification_score': 0.48460037},\n",
       "  {'images': ['0002_02.jpg', '0523_03.jpg'], 'verification_score': 0.7600559},\n",
       "  {'images': ['0002_02.jpg', '0526_02.jpg'], 'verification_score': 0.69656646},\n",
       "  {'images': ['0002_02.jpg', '0529_02.jpg'], 'verification_score': 0.70125437},\n",
       "  {'images': ['0002_02.jpg', '0530_02.jpg'], 'verification_score': 0.73771346},\n",
       "  {'images': ['0002_02.jpg', '0533_01.jpg'], 'verification_score': 0.69326514},\n",
       "  {'images': ['0002_02.jpg', '0534_01.jpg'], 'verification_score': 0.83982754},\n",
       "  {'images': ['0002_02.jpg', '0539_01.jpg'],\n",
       "   'verification_score': -0.20153075},\n",
       "  {'images': ['0002_02.jpg', '0540_02.jpg'], 'verification_score': 0.82938206},\n",
       "  {'images': ['0002_02.jpg', '0541_01.jpg'], 'verification_score': 0.71406305},\n",
       "  {'images': ['0002_02.jpg', '0551_02.jpg'], 'verification_score': 0.7960061},\n",
       "  {'images': ['0002_02.jpg', '0554_02.jpg'], 'verification_score': 0.63434005},\n",
       "  {'images': ['0002_02.jpg', '0558_04.jpg'], 'verification_score': 0.46160626},\n",
       "  {'images': ['0002_02.jpg', '0563_01.jpg'], 'verification_score': 0.7519567},\n",
       "  {'images': ['0002_02.jpg', '0570_01.jpg'], 'verification_score': 0.56620234},\n",
       "  {'images': ['0002_02.jpg', '0578_03.jpg'], 'verification_score': 0.40022033},\n",
       "  {'images': ['0002_02.jpg', '0589_01.jpg'], 'verification_score': 0.3803093},\n",
       "  {'images': ['0002_02.jpg', '0611_01.jpg'], 'verification_score': 0.57998884},\n",
       "  {'images': ['0003_01.jpg', '0005_01.jpg'], 'verification_score': 0.8243563},\n",
       "  {'images': ['0003_01.jpg', '0009_01.jpg'], 'verification_score': 0.8035372},\n",
       "  {'images': ['0003_01.jpg', '0014_02.jpg'], 'verification_score': 0.8608274},\n",
       "  {'images': ['0003_01.jpg', '0015_01.jpg'], 'verification_score': 0.86383563},\n",
       "  {'images': ['0003_01.jpg', '0018_01.jpg'], 'verification_score': 0.6601706},\n",
       "  {'images': ['0003_01.jpg', '0021_01.jpg'], 'verification_score': 0.7928541},\n",
       "  {'images': ['0003_01.jpg', '0037_02.jpg'], 'verification_score': 0.7979993},\n",
       "  {'images': ['0003_01.jpg', '0046_01.jpg'], 'verification_score': 0.87286747},\n",
       "  {'images': ['0003_01.jpg', '0047_02.jpg'], 'verification_score': 0.8362439},\n",
       "  {'images': ['0003_01.jpg', '0052_07.jpg'], 'verification_score': 0.70766544},\n",
       "  {'images': ['0003_01.jpg', '0056_01.jpg'], 'verification_score': 0.7982919},\n",
       "  {'images': ['0003_01.jpg', '0067_01.jpg'], 'verification_score': 0.88268775},\n",
       "  {'images': ['0003_01.jpg', '0068_01.jpg'], 'verification_score': 0.77847385},\n",
       "  {'images': ['0003_01.jpg', '0087_01.jpg'], 'verification_score': 0.8285061},\n",
       "  {'images': ['0003_01.jpg', '0090_01.jpg'], 'verification_score': 0.78015625},\n",
       "  {'images': ['0003_01.jpg', '0129_02.jpg'], 'verification_score': 0.8724942},\n",
       "  {'images': ['0003_01.jpg', '0132_02.jpg'], 'verification_score': 0.76691157},\n",
       "  {'images': ['0003_01.jpg', '0133_01.jpg'], 'verification_score': 0.67779887},\n",
       "  {'images': ['0003_01.jpg', '0140_01.jpg'], 'verification_score': 0.6375927},\n",
       "  {'images': ['0003_01.jpg', '0171_02.jpg'], 'verification_score': 0.5483458},\n",
       "  {'images': ['0003_01.jpg', '0177_01.jpg'], 'verification_score': 0.836633},\n",
       "  {'images': ['0003_01.jpg', '0198_03.jpg'], 'verification_score': 0.7432965},\n",
       "  {'images': ['0003_01.jpg', '0199_01.jpg'], 'verification_score': 0.74110746},\n",
       "  {'images': ['0003_01.jpg', '0202_01.jpg'], 'verification_score': 0.6306335},\n",
       "  {'images': ['0003_01.jpg', '0204_01.jpg'], 'verification_score': 0.70936954},\n",
       "  {'images': ['0003_01.jpg', '0228_04.jpg'], 'verification_score': 0.6012484},\n",
       "  {'images': ['0003_01.jpg', '0238_01.jpg'], 'verification_score': 0.7547699},\n",
       "  {'images': ['0003_01.jpg', '0239_01.jpg'], 'verification_score': 0.76384497},\n",
       "  {'images': ['0003_01.jpg', '0242_02.jpg'], 'verification_score': 0.75624514},\n",
       "  {'images': ['0003_01.jpg', '0260_01.jpg'], 'verification_score': 0.6804135},\n",
       "  {'images': ['0003_01.jpg', '0268_01.jpg'], 'verification_score': 0.57316554},\n",
       "  {'images': ['0003_01.jpg', '0274_01.jpg'], 'verification_score': 0.5615925},\n",
       "  {'images': ['0003_01.jpg', '0290_02.jpg'], 'verification_score': 0.649951},\n",
       "  {'images': ['0003_01.jpg', '0303_01.jpg'], 'verification_score': 0.48942676},\n",
       "  {'images': ['0003_01.jpg', '0308_01.jpg'], 'verification_score': 0.8680806},\n",
       "  {'images': ['0003_01.jpg', '0369_01.jpg'], 'verification_score': 0.4454649},\n",
       "  {'images': ['0003_01.jpg', '0460_01.jpg'], 'verification_score': 0.4695536},\n",
       "  {'images': ['0003_01.jpg', '0483_01.jpg'], 'verification_score': 0.4648592},\n",
       "  {'images': ['0003_01.jpg', '0529_02.jpg'], 'verification_score': 0.71716654},\n",
       "  {'images': ['0003_01.jpg', '0530_02.jpg'], 'verification_score': 0.69607854},\n",
       "  {'images': ['0003_01.jpg', '0533_01.jpg'], 'verification_score': 0.7491843},\n",
       "  {'images': ['0003_01.jpg', '0558_04.jpg'], 'verification_score': 0.55090404},\n",
       "  {'images': ['0003_01.jpg', '0578_03.jpg'], 'verification_score': 0.5231046},\n",
       "  {'images': ['0004_01.jpg', '0001_01.jpg'], 'verification_score': 0.8116773},\n",
       "  {'images': ['0004_01.jpg', '0002_02.jpg'], 'verification_score': 0.82834494},\n",
       "  {'images': ['0004_01.jpg', '0003_01.jpg'], 'verification_score': 0.86889803},\n",
       "  {'images': ['0004_01.jpg', '0005_01.jpg'], 'verification_score': 0.82922465},\n",
       "  {'images': ['0004_01.jpg', '0006_01.jpg'], 'verification_score': 0.69117695},\n",
       "  {'images': ['0004_01.jpg', '0007_02.jpg'], 'verification_score': 0.8292186},\n",
       "  {'images': ['0004_01.jpg', '0008_01.jpg'], 'verification_score': 0.8368329},\n",
       "  {'images': ['0004_01.jpg', '0009_01.jpg'], 'verification_score': 0.795012},\n",
       "  {'images': ['0004_01.jpg', '0010_02.jpg'], 'verification_score': 0.82249534},\n",
       "  {'images': ['0004_01.jpg', '0011_01.jpg'], 'verification_score': 0.85770285},\n",
       "  {'images': ['0004_01.jpg', '0012_01.jpg'], 'verification_score': 0.79198647},\n",
       "  {'images': ['0004_01.jpg', '0013_01.jpg'], 'verification_score': 0.8633893},\n",
       "  {'images': ['0004_01.jpg', '0014_02.jpg'], 'verification_score': 0.80276304},\n",
       "  {'images': ['0004_01.jpg', '0015_01.jpg'], 'verification_score': 0.85084915},\n",
       "  {'images': ['0004_01.jpg', '0018_01.jpg'], 'verification_score': 0.6807134},\n",
       "  {'images': ['0004_01.jpg', '0020_01.jpg'], 'verification_score': 0.8049619},\n",
       "  {'images': ['0004_01.jpg', '0021_01.jpg'], 'verification_score': 0.72994804},\n",
       "  {'images': ['0004_01.jpg', '0022_01.jpg'], 'verification_score': 0.8952501},\n",
       "  {'images': ['0004_01.jpg', '0025_01.jpg'], 'verification_score': 0.6768332},\n",
       "  {'images': ['0004_01.jpg', '0026_01.jpg'], 'verification_score': 0.8161004},\n",
       "  {'images': ['0004_01.jpg', '0028_01.jpg'], 'verification_score': 0.70246494},\n",
       "  {'images': ['0004_01.jpg', '0029_01.jpg'], 'verification_score': 0.5933197},\n",
       "  {'images': ['0004_01.jpg', '0030_01.jpg'], 'verification_score': 0.7753826},\n",
       "  {'images': ['0004_01.jpg', '0031_01.jpg'], 'verification_score': 0.8441718},\n",
       "  {'images': ['0004_01.jpg', '0037_02.jpg'], 'verification_score': 0.8280585},\n",
       "  {'images': ['0004_01.jpg', '0040_01.jpg'], 'verification_score': 0.5794561},\n",
       "  {'images': ['0004_01.jpg', '0046_01.jpg'], 'verification_score': 0.8495551},\n",
       "  {'images': ['0004_01.jpg', '0047_02.jpg'], 'verification_score': 0.8000064},\n",
       "  {'images': ['0004_01.jpg', '0052_07.jpg'], 'verification_score': 0.6413274},\n",
       "  {'images': ['0004_01.jpg', '0053_01.jpg'], 'verification_score': 0.6297802},\n",
       "  {'images': ['0004_01.jpg', '0055_01.jpg'], 'verification_score': 0.78711456},\n",
       "  {'images': ['0004_01.jpg', '0056_01.jpg'], 'verification_score': 0.8117039},\n",
       "  {'images': ['0004_01.jpg', '0057_01.jpg'], 'verification_score': 0.68195975},\n",
       "  {'images': ['0004_01.jpg', '0059_01.jpg'], 'verification_score': 0.6385298},\n",
       "  {'images': ['0004_01.jpg', '0062_01.jpg'], 'verification_score': 0.6916072},\n",
       "  {'images': ['0004_01.jpg', '0063_01.jpg'], 'verification_score': 0.8304275},\n",
       "  {'images': ['0004_01.jpg', '0066_01.jpg'], 'verification_score': 0.6487361},\n",
       "  {'images': ['0004_01.jpg', '0067_01.jpg'], 'verification_score': 0.7631243},\n",
       "  {'images': ['0004_01.jpg', '0068_01.jpg'], 'verification_score': 0.7842641},\n",
       "  {'images': ['0004_01.jpg', '0069_02.jpg'], 'verification_score': 0.79812723},\n",
       "  {'images': ['0004_01.jpg', '0071_01.jpg'], 'verification_score': 0.8160627},\n",
       "  {'images': ['0004_01.jpg', '0072_01.jpg'], 'verification_score': 0.59654284},\n",
       "  {'images': ['0004_01.jpg', '0074_01.jpg'], 'verification_score': 0.89642274},\n",
       "  {'images': ['0004_01.jpg', '0075_01.jpg'], 'verification_score': 0.8456911},\n",
       "  {'images': ['0004_01.jpg', '0078_02.jpg'], 'verification_score': 0.69725895},\n",
       "  {'images': ['0004_01.jpg', '0081_01.jpg'], 'verification_score': 0.7049725},\n",
       "  {'images': ['0004_01.jpg', '0082_02.jpg'],\n",
       "   'verification_score': -0.14642733},\n",
       "  {'images': ['0004_01.jpg', '0085_01.jpg'], 'verification_score': 0.80452436},\n",
       "  {'images': ['0004_01.jpg', '0086_01.jpg'], 'verification_score': 0.858109},\n",
       "  {'images': ['0004_01.jpg', '0087_01.jpg'], 'verification_score': 0.74981517},\n",
       "  {'images': ['0004_01.jpg', '0088_03.jpg'], 'verification_score': 0.7602416},\n",
       "  {'images': ['0004_01.jpg', '0090_01.jpg'], 'verification_score': 0.6921298},\n",
       "  {'images': ['0004_01.jpg', '0091_02.jpg'], 'verification_score': 0.73322177},\n",
       "  {'images': ['0004_01.jpg', '0093_01.jpg'], 'verification_score': 0.7319293},\n",
       "  {'images': ['0004_01.jpg', '0095_01.jpg'], 'verification_score': 0.7160524},\n",
       "  {'images': ['0004_01.jpg', '0096_01.jpg'], 'verification_score': 0.7292498},\n",
       "  {'images': ['0004_01.jpg', '0097_01.jpg'], 'verification_score': 0.6565557},\n",
       "  {'images': ['0004_01.jpg', '0099_01.jpg'], 'verification_score': 0.63793445},\n",
       "  {'images': ['0004_01.jpg', '0101_01.jpg'], 'verification_score': 0.7642207},\n",
       "  {'images': ['0004_01.jpg', '0102_02.jpg'], 'verification_score': 0.74522996},\n",
       "  {'images': ['0004_01.jpg', '0103_02.jpg'], 'verification_score': 0.78396094},\n",
       "  {'images': ['0004_01.jpg', '0104_02.jpg'], 'verification_score': 0.671769},\n",
       "  {'images': ['0004_01.jpg', '0105_01.jpg'], 'verification_score': 0.79912984},\n",
       "  {'images': ['0004_01.jpg', '0106_03.jpg'], 'verification_score': 0.55621547},\n",
       "  {'images': ['0004_01.jpg', '0108_02.jpg'], 'verification_score': 0.63325274},\n",
       "  {'images': ['0004_01.jpg', '0112_02.jpg'], 'verification_score': 0.63244355},\n",
       "  {'images': ['0004_01.jpg', '0113_02.jpg'], 'verification_score': 0.8320255},\n",
       "  {'images': ['0004_01.jpg', '0114_01.jpg'], 'verification_score': 0.6652144},\n",
       "  {'images': ['0004_01.jpg', '0116_01.jpg'], 'verification_score': 0.71928984},\n",
       "  {'images': ['0004_01.jpg', '0117_01.jpg'], 'verification_score': 0.750741},\n",
       "  {'images': ['0004_01.jpg', '0118_02.jpg'], 'verification_score': 0.81106305},\n",
       "  {'images': ['0004_01.jpg', '0120_01.jpg'], 'verification_score': 0.71869946},\n",
       "  {'images': ['0004_01.jpg', '0122_02.jpg'], 'verification_score': -0.2794581},\n",
       "  {'images': ['0004_01.jpg', '0125_03.jpg'], 'verification_score': 0.7677961},\n",
       "  {'images': ['0004_01.jpg', '0126_01.jpg'], 'verification_score': 0.7350265},\n",
       "  {'images': ['0004_01.jpg', '0129_02.jpg'], 'verification_score': 0.8515761},\n",
       "  {'images': ['0004_01.jpg', '0130_02.jpg'], 'verification_score': 0.81564987},\n",
       "  {'images': ['0004_01.jpg', '0131_01.jpg'], 'verification_score': 0.6722355},\n",
       "  {'images': ['0004_01.jpg', '0132_02.jpg'], 'verification_score': 0.79832274},\n",
       "  {'images': ['0004_01.jpg', '0133_01.jpg'], 'verification_score': 0.73710847},\n",
       "  {'images': ['0004_01.jpg', '0138_03.jpg'], 'verification_score': 0.73542184},\n",
       "  {'images': ['0004_01.jpg', '0139_01.jpg'], 'verification_score': 0.6048945},\n",
       "  {'images': ['0004_01.jpg', '0140_01.jpg'], 'verification_score': 0.6279265},\n",
       "  {'images': ['0004_01.jpg', '0141_03.jpg'], 'verification_score': 0.80887544},\n",
       "  {'images': ['0004_01.jpg', '0142_01.jpg'], 'verification_score': 0.6061472},\n",
       "  {'images': ['0004_01.jpg', '0143_01.jpg'], 'verification_score': 0.63161874},\n",
       "  {'images': ['0004_01.jpg', '0145_01.jpg'], 'verification_score': 0.80121934},\n",
       "  {'images': ['0004_01.jpg', '0147_01.jpg'], 'verification_score': 0.6560514},\n",
       "  {'images': ['0004_01.jpg', '0148_01.jpg'], 'verification_score': 0.64149475},\n",
       "  {'images': ['0004_01.jpg', '0149_01.jpg'], 'verification_score': 0.6230893},\n",
       "  {'images': ['0004_01.jpg', '0150_01.jpg'], 'verification_score': 0.6948145},\n",
       "  {'images': ['0004_01.jpg', '0151_02.jpg'], 'verification_score': 0.71382785},\n",
       "  {'images': ['0004_01.jpg', '0153_01.jpg'], 'verification_score': 0.6283427},\n",
       "  {'images': ['0004_01.jpg', '0154_04.jpg'], 'verification_score': 0.5934712},\n",
       "  {'images': ['0004_01.jpg', '0155_01.jpg'], 'verification_score': 0.6449891},\n",
       "  {'images': ['0004_01.jpg', '0156_02.jpg'], 'verification_score': 0.6838795},\n",
       "  {'images': ['0004_01.jpg', '0157_04.jpg'], 'verification_score': 0.5627831},\n",
       "  {'images': ['0004_01.jpg', '0159_02.jpg'],\n",
       "   'verification_score': -0.17983499},\n",
       "  {'images': ['0004_01.jpg', '0160_02.jpg'], 'verification_score': 0.57915926},\n",
       "  {'images': ['0004_01.jpg', '0161_02.jpg'], 'verification_score': 0.53239226},\n",
       "  {'images': ['0004_01.jpg', '0163_01.jpg'], 'verification_score': 0.7713253},\n",
       "  {'images': ['0004_01.jpg', '0164_01.jpg'], 'verification_score': 0.60463494},\n",
       "  {'images': ['0004_01.jpg', '0165_02.jpg'], 'verification_score': 0.58014154},\n",
       "  {'images': ['0004_01.jpg', '0169_01.jpg'], 'verification_score': 0.6470717},\n",
       "  {'images': ['0004_01.jpg', '0171_02.jpg'], 'verification_score': 0.53086317},\n",
       "  {'images': ['0004_01.jpg', '0173_03.jpg'], 'verification_score': 0.62167835},\n",
       "  {'images': ['0004_01.jpg', '0174_02.jpg'], 'verification_score': 0.7918918},\n",
       "  {'images': ['0004_01.jpg', '0176_01.jpg'], 'verification_score': 0.76498395},\n",
       "  {'images': ['0004_01.jpg', '0177_01.jpg'], 'verification_score': 0.7065337},\n",
       "  {'images': ['0004_01.jpg', '0178_02.jpg'], 'verification_score': 0.607926},\n",
       "  {'images': ['0004_01.jpg', '0179_01.jpg'], 'verification_score': 0.7808206},\n",
       "  {'images': ['0004_01.jpg', '0180_01.jpg'], 'verification_score': 0.5556383},\n",
       "  {'images': ['0004_01.jpg', '0181_01.jpg'], 'verification_score': 0.585348},\n",
       "  {'images': ['0004_01.jpg', '0182_02.jpg'], 'verification_score': 0.7166585},\n",
       "  {'images': ['0004_01.jpg', '0183_01.jpg'], 'verification_score': 0.6093385},\n",
       "  {'images': ['0004_01.jpg', '0184_02.jpg'], 'verification_score': 0.63491696},\n",
       "  {'images': ['0004_01.jpg', '0185_01.jpg'], 'verification_score': 0.8222809},\n",
       "  {'images': ['0004_01.jpg', '0186_01.jpg'], 'verification_score': 0.82235694},\n",
       "  {'images': ['0004_01.jpg', '0187_01.jpg'], 'verification_score': 0.4375891},\n",
       "  {'images': ['0004_01.jpg', '0189_02.jpg'], 'verification_score': 0.73603195},\n",
       "  {'images': ['0004_01.jpg', '0190_01.jpg'], 'verification_score': 0.65494657},\n",
       "  {'images': ['0004_01.jpg', '0192_01.jpg'], 'verification_score': 0.64942},\n",
       "  {'images': ['0004_01.jpg', '0193_03.jpg'], 'verification_score': 0.7107605},\n",
       "  {'images': ['0004_01.jpg', '0196_01.jpg'], 'verification_score': 0.83925676},\n",
       "  {'images': ['0004_01.jpg', '0197_01.jpg'], 'verification_score': 0.59789705},\n",
       "  {'images': ['0004_01.jpg', '0198_03.jpg'], 'verification_score': 0.74060035},\n",
       "  {'images': ['0004_01.jpg', '0199_01.jpg'], 'verification_score': 0.66710865},\n",
       "  {'images': ['0004_01.jpg', '0200_01.jpg'], 'verification_score': 0.7131164},\n",
       "  {'images': ['0004_01.jpg', '0201_01.jpg'], 'verification_score': 0.5180029},\n",
       "  {'images': ['0004_01.jpg', '0202_01.jpg'], 'verification_score': 0.67170143},\n",
       "  {'images': ['0004_01.jpg', '0204_01.jpg'], 'verification_score': 0.7042371},\n",
       "  {'images': ['0004_01.jpg', '0206_01.jpg'], 'verification_score': 0.6254958},\n",
       "  {'images': ['0004_01.jpg', '0207_01.jpg'],\n",
       "   'verification_score': -0.18259372},\n",
       "  {'images': ['0004_01.jpg', '0208_01.jpg'], 'verification_score': 0.6357362},\n",
       "  {'images': ['0004_01.jpg', '0209_03.jpg'], 'verification_score': 0.66945463},\n",
       "  {'images': ['0004_01.jpg', '0211_02.jpg'], 'verification_score': 0.5889475},\n",
       "  {'images': ['0004_01.jpg', '0212_01.jpg'], 'verification_score': 0.8126029},\n",
       "  {'images': ['0004_01.jpg', '0219_02.jpg'], 'verification_score': 0.54772377},\n",
       "  {'images': ['0004_01.jpg', '0221_02.jpg'], 'verification_score': 0.7926885}]}"
      ]
     },
     "execution_count": 6,
     "metadata": {},
     "output_type": "execute_result"
    }
   ],
   "source": [
    "annotations"
   ]
  },
  {
   "cell_type": "code",
   "execution_count": 77,
   "metadata": {},
   "outputs": [],
   "source": [
    "max_key = 0\n",
    "max_score = 0\n",
    "for k in mated_pairs:\n",
    "    elem = mated_pairs[k]\n",
    "    score = elem['verification_score']\n",
    "    \n",
    "    if score > max_score:\n",
    "        max_key = k\n",
    "        max_score = score\n",
    "\n",
    "min_key = 0\n",
    "min_score = 100\n",
    "for k in mated_pairs:\n",
    "    elem = mated_pairs[k]\n",
    "    score = elem['verification_score']\n",
    "    \n",
    "    if score < min_score:\n",
    "        min_key = k\n",
    "        min_score = score\n",
    "    "
   ]
  },
  {
   "cell_type": "code",
   "execution_count": 78,
   "metadata": {},
   "outputs": [
    {
     "name": "stdout",
     "output_type": "stream",
     "text": [
      "130 0.90821755\n",
      "230 0.029265018\n"
     ]
    }
   ],
   "source": [
    "print(max_key, max_score)\n",
    "print(min_key, min_score)"
   ]
  },
  {
   "cell_type": "code",
   "execution_count": 79,
   "metadata": {},
   "outputs": [
    {
     "data": {
      "text/plain": [
       "(PosixPath('/home/matt/datasets/vgg_face_v2/cropped/cropped_n000969/0002_01.jpg'),\n",
       " PosixPath('/home/matt/datasets/vgg_face_v2/cropped/cropped_n000969/0037_01.jpg'))"
      ]
     },
     "execution_count": 79,
     "metadata": {},
     "output_type": "execute_result"
    }
   ],
   "source": [
    "mated_pairs[max_key]['images_paths']"
   ]
  },
  {
   "cell_type": "code",
   "execution_count": 80,
   "metadata": {},
   "outputs": [
    {
     "data": {
      "text/plain": [
       "<matplotlib.image.AxesImage at 0x7f507a26dc10>"
      ]
     },
     "execution_count": 80,
     "metadata": {},
     "output_type": "execute_result"
    },
    {
     "data": {
      "image/png": "[encoded data removed]",
      "text/plain": [
       "<Figure size 432x288 with 2 Axes>"
      ]
     },
     "metadata": {
      "needs_background": "light"
     },
     "output_type": "display_data"
    }
   ],
   "source": [
    "pair = mated_pairs[max_key]\n",
    "f, ax = plt.subplots(nrows=1, ncols=2)\n",
    "f.suptitle(f\"MAX = {pair['verification_score']:.5f}\")\n",
    "ax[0].imshow(pair['images'][0])\n",
    "ax[1].imshow(pair['images'][1])"
   ]
  },
  {
   "cell_type": "code",
   "execution_count": 81,
   "metadata": {},
   "outputs": [
    {
     "data": {
      "text/plain": [
       "<matplotlib.image.AxesImage at 0x7f507a9ebd00>"
      ]
     },
     "execution_count": 81,
     "metadata": {},
     "output_type": "execute_result"
    },
    {
     "data": {
      "image/png": "[encoded data removed]",
      "text/plain": [
       "<Figure size 432x288 with 2 Axes>"
      ]
     },
     "metadata": {
      "needs_background": "light"
     },
     "output_type": "display_data"
    }
   ],
   "source": [
    "pair = mated_pairs[min_key]\n",
    "f, ax = plt.subplots(nrows=1, ncols=2)\n",
    "f.suptitle(f\"MIN = {pair['verification_score']:.5f}\")\n",
    "ax[0].imshow(pair['images'][0])\n",
    "ax[1].imshow(pair['images'][1])"
   ]
  },
  {
   "cell_type": "code",
   "execution_count": null,
   "metadata": {},
   "outputs": [],
   "source": []
  }
 ],
 "metadata": {
  "kernelspec": {
   "display_name": "Python 3",
   "language": "python",
   "name": "python3"
  },
  "language_info": {
   "codemirror_mode": {
    "name": "ipython",
    "version": 3
   },
   "file_extension": ".py",
   "mimetype": "text/x-python",
   "name": "python",
   "nbconvert_exporter": "python",
   "pygments_lexer": "ipython3",
   "version": "3.8.3"
  }
 },
 "nbformat": 4,
 "nbformat_minor": 4
}
